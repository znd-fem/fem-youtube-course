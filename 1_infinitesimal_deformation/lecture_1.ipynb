{
  "nbformat": 4,
  "nbformat_minor": 0,
  "metadata": {
    "colab": {
      "provenance": [],
      "toc_visible": true
    },
    "kernelspec": {
      "name": "python3",
      "display_name": "Python 3"
    },
    "language_info": {
      "name": "python"
    }
  },
  "cells": [
    {
      "cell_type": "markdown",
      "source": [
        "# Pythonで学ぶ有限要素法（基本編）\n",
        "線形等方弾性体に対する有限要素法による二次元解析（平面ひずみ条件）のサンプルコードです．  \n",
        "YouTubeチャンネル [大学生・技術者のための有限要素法](https://www.youtube.com/@fempython) の動画に対応しています．  \n",
        "このnotebookには数式と対応するPythonスクリプトしか記載していないため，詳細な解説は対応する動画をご参照ください．\n"
      ],
      "metadata": {
        "id": "fvn2B1uYmkAu"
      }
    },
    {
      "cell_type": "markdown",
      "source": [
        "## 問1. 線形等方弾性体"
      ],
      "metadata": {
        "id": "C9N1dPnXoQWb"
      }
    },
    {
      "cell_type": "markdown",
      "source": [
        "支配方程式\n",
        "$$\n",
        "\\int_V \\boldsymbol{\\sigma}\\cdot \\delta \\boldsymbol{\\varepsilon} \\mathrm{d}v = \\int_V \\boldsymbol{b}\\cdot \\delta \\boldsymbol{u} \\mathrm{d}v + \\int_S \\boldsymbol{t}\\cdot \\delta \\boldsymbol{u} \\mathrm{d}s\n",
        "$$\n",
        "構成式\n",
        "$$\n",
        "\\sigma^{ij} = C^{\\ ijkl}\\varepsilon_{kl}\n",
        "$$\n",
        "弾性係数\n",
        "$$\n",
        "C^{\\ ijkl}=\\lambda \\delta^{ij}\\delta^{kl} + \\mu (\\delta^{ik}\\delta^{jl} + \\delta^{il}\\delta^{jk})\n",
        "\\\\\n",
        "\\lambda = \\frac{E\\nu }{(1+\\nu )(1-2\\nu )},\\quad \\mu = \\frac{E}{2(1+\\nu )}\n",
        "\\\\\n",
        "E=205\\ \\mathrm{GPa},\\ \\nu = 0.27\n",
        "$$"
      ],
      "metadata": {
        "id": "ikf8xp7bodlc"
      }
    },
    {
      "cell_type": "markdown",
      "source": [
        "## 1. 有限要素法とは？"
      ],
      "metadata": {
        "id": "qvzp-klIoj5H"
      }
    },
    {
      "cell_type": "markdown",
      "source": [
        "離散化された支配方程式\n",
        "$$\n",
        "\\int_{V^{\\mathrm{e}}} \\{ \\delta u \\}^{\\mathrm{T}}[B]^{\\mathrm{T}}\\{ \\sigma \\} \\mathrm{d}v^{\\mathrm{e}} = \\int_{V^{\\mathrm{e}}} \\{ \\delta u \\}^{\\mathrm{T}}[N]\\{ b \\} \\mathrm{d}v^{\\mathrm{e}} + \\int_{S^{\\mathrm{e}}} \\{ \\delta u \\}^{\\mathrm{T}}[N]\\{ t \\} \\mathrm{d}s^{\\mathrm{e}}\n",
        "$$\n",
        "要素剛性行列\n",
        "$$\n",
        "\\left[ K^{\\mathrm{e}}_{ij} \\right] = \\frac{ \\partial \\left\\{ f^{\\mathrm{e}}_{\\mathrm{in}i} \\right\\} }{\\partial \\left\\{ u_j\\right\\} } = \\int_{V^{\\mathrm{e}}} [B]^{\\mathrm{T}} [C] [B] \\mathrm{d}v^{\\mathrm{e}}\n",
        "$$\n",
        "要素剛性方程式\n",
        "$$\n",
        "[K^{\\mathrm{e}}]\\{ u \\} = \\{ f^{\\mathrm{e}} \\}\n",
        "$$\n",
        "全体剛性方程式\n",
        "$$\n",
        "[K]\\{ u \\} = \\{ F \\}\n",
        "$$"
      ],
      "metadata": {
        "id": "qxwn_zPAshIJ"
      }
    },
    {
      "cell_type": "markdown",
      "source": [
        "## 2. Pythonによる実装"
      ],
      "metadata": {
        "id": "Fu4INfA6owa9"
      }
    },
    {
      "cell_type": "markdown",
      "source": [
        "方針\n",
        "- [CuPy](https://cupy.dev/)や[jax.numpy](https://jax.readthedocs.io/en/latest/jax.numpy.html)への置き換えを見据え，行列計算にはNumPyを用いる（Colaboratory上ではランタイムをGPUに切り替えることでCuPyを利用可能）\n",
        "- FortranやCライクなコードをPythonに移植するには[Taichi](https://www.taichi-lang.org/)等を用いた方が良い"
      ],
      "metadata": {
        "id": "dDNi897erjIb"
      }
    },
    {
      "cell_type": "code",
      "source": [
        "try:\n",
        "    import cupy as np\n",
        "    from cupyx.scipy.sparse import csr_matrix\n",
        "    from cupyx.scipy.sparse.linalg import spsolve\n",
        "    gpu_available = True\n",
        "    print(\"CuPyを使用します(GPU利用可能)\")\n",
        "except ImportError:\n",
        "    import numpy as np\n",
        "    from scipy.sparse import csr_matrix\n",
        "    from scipy.sparse.linalg import spsolve\n",
        "    gpu_available = False\n",
        "    print(\"NumPyを使用します(GPU利用不可)\")"
      ],
      "metadata": {
        "colab": {
          "base_uri": "https://localhost:8080/"
        },
        "id": "ALOhyHPnreSF",
        "outputId": "1e9162ab-4e50-4d5d-ece0-3808f34b0aac"
      },
      "execution_count": null,
      "outputs": [
        {
          "output_type": "stream",
          "name": "stdout",
          "text": [
            "NumPyを使用します(GPU利用不可)\n"
          ]
        }
      ]
    },
    {
      "cell_type": "markdown",
      "source": [
        "## 3. メッシュ作成"
      ],
      "metadata": {
        "id": "ye_0enHso4Gg"
      }
    },
    {
      "cell_type": "markdown",
      "source": [
        "座標情報の実装"
      ],
      "metadata": {
        "id": "k8UPAlHCo_k6"
      }
    },
    {
      "cell_type": "code",
      "source": [
        "# メッシュのサイズ\n",
        "width, height = 100e-3, 20e-3\n",
        "# 分割数\n",
        "nx, ny = 10, 2  # x方向, y方向\n",
        "# 節点の座標を生成\n",
        "x = np.linspace(0, width, nx + 1)\n",
        "y = np.linspace(0, height, ny + 1)\n",
        "X, Y = np.meshgrid(x, y)\n",
        "coords = np.column_stack([X.ravel(), Y.ravel()])\n",
        "n_point, n_dof = coords.shape  # 全体節点数, 自由度数\n",
        "f\"全体節点数: {n_point}, 自由度数: {n_dof}\""
      ],
      "metadata": {
        "colab": {
          "base_uri": "https://localhost:8080/",
          "height": 35
        },
        "id": "GasPs-jzonCU",
        "outputId": "9de6f9d3-6f53-4339-ddd1-4bbeb26a8d82"
      },
      "execution_count": null,
      "outputs": [
        {
          "output_type": "execute_result",
          "data": {
            "text/plain": [
              "'全体節点数: 33, 自由度数: 2'"
            ],
            "application/vnd.google.colaboratory.intrinsic+json": {
              "type": "string"
            }
          },
          "metadata": {},
          "execution_count": 2
        }
      ]
    },
    {
      "cell_type": "markdown",
      "source": [
        "コネクティビティーの実装"
      ],
      "metadata": {
        "id": "zOXrVN8ApGeZ"
      }
    },
    {
      "cell_type": "code",
      "source": [
        "# 要素-全体節点番号の対応\n",
        "connectivity = []\n",
        "for j in range(ny):\n",
        "    for i in range(nx):\n",
        "       # 反時計回りに追加\n",
        "        n1 = j * (nx + 1) + i\n",
        "        n2 = n1 + 1\n",
        "        n3 = n1 + (nx + 1) + 1\n",
        "        n4 = n1 + (nx + 1)\n",
        "        connectivity.append([n1, n2, n3, n4])\n",
        "n_element = len(connectivity)  # 要素数\n",
        "f\"要素数: {n_element}\""
      ],
      "metadata": {
        "colab": {
          "base_uri": "https://localhost:8080/",
          "height": 35
        },
        "id": "AUUaL8YmpKDN",
        "outputId": "ce2d9a3f-8c76-4a6c-b465-51edaf50ad96"
      },
      "execution_count": null,
      "outputs": [
        {
          "output_type": "execute_result",
          "data": {
            "text/plain": [
              "'要素数: 20'"
            ],
            "application/vnd.google.colaboratory.intrinsic+json": {
              "type": "string"
            }
          },
          "metadata": {},
          "execution_count": 3
        }
      ]
    },
    {
      "cell_type": "markdown",
      "source": [
        "境界条件（固定点）の実装"
      ],
      "metadata": {
        "id": "-eKqSfyHpQDF"
      }
    },
    {
      "cell_type": "code",
      "source": [
        "# 固定点 (節点番号, 自由度番号(x: 0, y: 1))形式で格納\n",
        "fix_points = [\n",
        "    (0, 0),  # 節点0, x方向\n",
        "    (0, 1),  # 節点0, y方向\n",
        "    (11, 0),  # 節点11, x方向\n",
        "    (11, 1),  # 節点11, y方向\n",
        "    (22, 0),  # 節点22, x方向\n",
        "    (22, 1),  # 節点22, y方向\n",
        "]"
      ],
      "metadata": {
        "id": "xC3U7M5xpTE4"
      },
      "execution_count": null,
      "outputs": []
    },
    {
      "cell_type": "markdown",
      "source": [
        "境界条件（荷重）の実装"
      ],
      "metadata": {
        "id": "fKMPPzNipTlZ"
      }
    },
    {
      "cell_type": "code",
      "source": [
        "# 荷重 (節点番号, 自由度番号, 荷重)形式で格納\n",
        "applied_forces = [\n",
        "    (32, 1, -1000.0),  #節点32, y方向, -1000N\n",
        "]"
      ],
      "metadata": {
        "id": "92x2Jg-apX86"
      },
      "execution_count": null,
      "outputs": []
    },
    {
      "cell_type": "markdown",
      "source": [
        "メッシュ確認"
      ],
      "metadata": {
        "id": "n6cGEuljTU2P"
      }
    },
    {
      "cell_type": "code",
      "source": [
        "import matplotlib.pyplot as plt\n",
        "from matplotlib.collections import PolyCollection"
      ],
      "metadata": {
        "id": "NtbXdrPNTWg9"
      },
      "execution_count": null,
      "outputs": []
    },
    {
      "cell_type": "code",
      "source": [
        "_, ax = plt.subplots()\n",
        "\n",
        "# メッシュの描画\n",
        "vertices = coords[np.asarray(connectivity)]\n",
        "if gpu_available:\n",
        "    vertices = np.asnumpy(vertices)\n",
        "collection = PolyCollection(vertices, edgecolors=\"black\", facecolors=\"none\")\n",
        "ax.add_collection(collection)\n",
        "\n",
        "if gpu_available:\n",
        "    coords_cpu = np.asnumpy(coords)\n",
        "else:\n",
        "    coords_cpu = coords\n",
        "\n",
        "# 固定点の描画\n",
        "fix_pts = [ipnt for ipnt, _ in fix_points]\n",
        "ax.scatter(\n",
        "    coords_cpu[fix_pts, 0],\n",
        "    coords_cpu[fix_pts, 1],\n",
        "    color=\"r\",\n",
        "    label=\"Fixed\",\n",
        ")\n",
        "\n",
        "# 荷重の描画\n",
        "loads = np.zeros_like(coords)\n",
        "load_pts = []\n",
        "for ipnt, idof, force in applied_forces:\n",
        "    loads[ipnt, idof] = force\n",
        "    load_pts.append(ipnt)\n",
        "loads /= (np.max(np.abs(loads)) / max(width / nx, height / ny))\n",
        "if gpu_available:\n",
        "    loads_cpu = np.asnumpy(loads)\n",
        "else:\n",
        "    loads_cpu = loads\n",
        "ax.quiver(\n",
        "    coords_cpu[load_pts, 0],\n",
        "    coords_cpu[load_pts, 1],\n",
        "    loads_cpu[load_pts, 0],\n",
        "    loads_cpu[load_pts, 1],\n",
        "    color=\"b\",\n",
        "    label=\"Load\",\n",
        ")\n",
        "\n",
        "# プロット設定\n",
        "ax.autoscale()\n",
        "ax.set_aspect(\"equal\")\n",
        "ax.axis(\"off\")\n",
        "ax.legend(loc=\"center left\", bbox_to_anchor=(1.0, 0.5))\n",
        "plt.savefig(\"mesh_2d.png\", dpi=300, transparent=True)"
      ],
      "metadata": {
        "colab": {
          "base_uri": "https://localhost:8080/",
          "height": 154
        },
        "id": "0RnZiMjJc4ud",
        "outputId": "99b7442b-ef4c-4bdb-8095-585cec34c94f"
      },
      "execution_count": null,
      "outputs": [
        {
          "output_type": "execute_result",
          "data": {
            "text/plain": [
              "<matplotlib.legend.Legend at 0x79d754a38a00>"
            ]
          },
          "metadata": {},
          "execution_count": 7
        },
        {
          "output_type": "display_data",
          "data": {
            "text/plain": [
              "<Figure size 640x480 with 1 Axes>"
            ],
            "image/png": "[encoded data removed]"
          },
          "metadata": {}
        }
      ]
    },
    {
      "cell_type": "markdown",
      "source": [
        "## 4. 形状関数の実装"
      ],
      "metadata": {
        "id": "SQfYu5ckpaSo"
      }
    },
    {
      "cell_type": "markdown",
      "source": [
        "自然座標系での積分点座標"
      ],
      "metadata": {
        "id": "pZ_G4Qoapmcy"
      }
    },
    {
      "cell_type": "code",
      "source": [
        "# 一次元での積分点座標\n",
        "gauss_points_1d = np.array([-1 / np.sqrt(3), 1 / np.sqrt(3)])\n",
        "# 一次元での積分点を並べて二次元上に配置する\n",
        "r1, r2 = np.meshgrid(gauss_points_1d, gauss_points_1d)\n",
        "# 二次元での積分点座標\n",
        "gauss_points_2d = np.vstack([r1.flatten(), r2.flatten()]).T\n",
        "# 各積分点での重み\n",
        "weights = np.array([1.0, 1.0, 1.0, 1.0])"
      ],
      "metadata": {
        "id": "Lq46q30NpcLC"
      },
      "execution_count": null,
      "outputs": []
    },
    {
      "cell_type": "markdown",
      "source": [
        "形状関数の取得\n",
        "$$\n",
        "N^1(r_1,r_2)=\\frac{1}{4}(1-r_1)(1-r_2)\\\\\n",
        "N^2(r_1,r_2)=\\frac{1}{4}(1+r_1)(1-r_2)\\\\\n",
        "N^3(r_1,r_2)=\\frac{1}{4}(1+r_1)(1+r_2)\\\\\n",
        "N^4(r_1,r_2)=\\frac{1}{4}(1-r_1)(1+r_2)\n",
        "$$"
      ],
      "metadata": {
        "id": "hOZ9k38uprTd"
      }
    },
    {
      "cell_type": "code",
      "source": [
        "def get_shape_func(rcods: np.ndarray) -> np.ndarray:\n",
        "    \"\"\"座標から対応する形状関数Nを取得する\"\"\"\n",
        "    r1, r2 = rcods[..., 0], rcods[..., 1]\n",
        "    N = np.array([\n",
        "        0.25 * (1 - r1) * (1 - r2),  # N1\n",
        "        0.25 * (1 + r1) * (1 - r2),  # N2\n",
        "        0.25 * (1 + r1) * (1 + r2),  # N3\n",
        "        0.25 * (1 - r1) * (1 + r2),  # N4\n",
        "    ]).T\n",
        "    return N"
      ],
      "metadata": {
        "id": "DAAOFzYxpu-r"
      },
      "execution_count": null,
      "outputs": []
    },
    {
      "cell_type": "markdown",
      "source": [
        "自然座標系におけるBマトリックスの取得\n",
        "$$\n",
        "B^1_1(r_1,r_2) = \\frac{\\partial N^1(r_1,r_2)}{\\partial r_1}=-\\frac{1}{4}(1-r_2),\\quad\n",
        "B^1_2(r_1,r_2) = \\frac{\\partial N^1(r_1,r_2)}{\\partial r_2}=-\\frac{1}{4}(1-r_1)\\\\\n",
        "B^2_1(r_1,r_2) = \\frac{\\partial N^2(r_1,r_2)}{\\partial r_1}=\\frac{1}{4}(1-r_2),\\quad\n",
        "B^2_2(r_1,r_2) = \\frac{\\partial N^2(r_1,r_2)}{\\partial r_2}=-\\frac{1}{4}(1+r_1)\\\\\n",
        "B^3_1(r_1,r_2) = \\frac{\\partial N^3(r_1,r_2)}{\\partial r_1}=\\frac{1}{4}(1+r_2),\\quad\n",
        "B^3_2(r_1,r_2) = \\frac{\\partial N^3(r_1,r_2)}{\\partial r_2}=\\frac{1}{4}(1+r_1)\\\\\n",
        "B^4_1(r_1,r_2) = \\frac{\\partial N^4(r_1,r_2)}{\\partial r_1}=-\\frac{1}{4}(1+r_2),\\quad\n",
        "B^4_2(r_1,r_2) = \\frac{\\partial N^4(r_1,r_2)}{\\partial r_2}=\\frac{1}{4}(1-r_1)\n",
        "$$"
      ],
      "metadata": {
        "id": "6r4QfuhWpvbe"
      }
    },
    {
      "cell_type": "code",
      "source": [
        "def get_bmat_natural(rcods: np.ndarray) -> np.ndarray:\n",
        "    \"\"\"座標から自然座標系でのBマトリックスを返す\"\"\"\n",
        "    r1, r2 = rcods[..., 0], rcods[..., 1]\n",
        "    # BI1 = ∂NI/∂r1 (:, 4)\n",
        "    B1 = np.array([\n",
        "        -0.25 * (1 - r2),  # B11\n",
        "        0.25 * (1 - r2),  # B21\n",
        "        0.25 * (1 + r2),  # B31\n",
        "        -0.25 * (1 + r2),  # B41\n",
        "    ]).T\n",
        "    # BI2 = ∂NI/∂r2 (:, 4)\n",
        "    B2 = 0.25 * np.array([\n",
        "        -0.25 * (1 - r1),  # B12\n",
        "        -0.25 * (1 + r1),  # B22\n",
        "        0.25 * (1 + r1),  # B32\n",
        "        0.25 * (1 - r1),  # B42\n",
        "    ]).T\n",
        "    return np.stack((B1, B2), axis=-1)  # (:, 4, 2)\n",
        "\n",
        "# 積分点座標から自然座標系でのBマトリックスを作成\n",
        "bmat_nat = get_bmat_natural(gauss_points_2d)"
      ],
      "metadata": {
        "id": "rV81GouCp29_"
      },
      "execution_count": null,
      "outputs": []
    },
    {
      "cell_type": "markdown",
      "source": [
        "全体座標系におけるBマトリックスと重みの取得\n",
        "$$\n",
        "B^I_i\n",
        "= \\frac{\\partial N^I}{\\partial x_i}\n",
        "= \\frac{\\partial N^I}{\\partial r_j}  \\frac{\\partial r_j}{\\partial x_i}\n",
        "= B^I_{\\mathrm{nat}\\ j}\\ J_{ji}^{-1}\n",
        "$$"
      ],
      "metadata": {
        "id": "HpGtx9Rip3h9"
      }
    },
    {
      "cell_type": "code",
      "source": [
        "def get_bmatrix(ncods: np.ndarray) -> tuple[np.ndarray, np.ndarray]:\n",
        "    \"\"\"全体座標から全体座標系でのBマトリックスと重み×ヤコビ行列式を取得する\"\"\"\n",
        "    # ヤコビ行列 Jij = BnatIj * xIi\n",
        "    jacob = np.einsum(\"gIj,...Ii->...gij\", bmat_nat, ncods)\n",
        "    # ヤコビ行列指揮 detJ\n",
        "    detJ = np.sqrt(np.linalg.det(np.einsum(\"...gki,...gkj->...gij\", jacob, jacob)))\n",
        "    # J^-1ji\n",
        "    jinv = np.linalg.inv(jacob)\n",
        "    # 全体座標系でのBマトリックス BIi = BnatIj * J^-1ji\n",
        "    bmat_phys = np.einsum(\"gIj,...gji->...gIi\", bmat_nat, jinv)\n",
        "    # 重み×ヤコビ行列式 w * detJ\n",
        "    wdetJ = weights * detJ\n",
        "    # 全体座標系でのBマトリックスと重み×ヤコビ行列式を返す\n",
        "    return bmat_phys, wdetJ"
      ],
      "metadata": {
        "id": "m-wadEhTp-2f"
      },
      "execution_count": null,
      "outputs": []
    },
    {
      "cell_type": "markdown",
      "source": [
        "## 5. 支配方程式の実装"
      ],
      "metadata": {
        "id": "pDwkIwUNqDGj"
      }
    },
    {
      "cell_type": "markdown",
      "source": [
        "弾性係数の実装（平面ひずみ条件）\n",
        "$$\n",
        "[C] = \\begin{bmatrix} \\lambda + 2\\mu & \\lambda & 0 \\\\ \\lambda & \\lambda + 2\\mu & 0 \\\\ 0 & 0 & \\mu \\end{bmatrix}\n",
        "$$"
      ],
      "metadata": {
        "id": "xiphd_e5qKA6"
      }
    },
    {
      "cell_type": "code",
      "source": [
        "# 鋼材を想定\n",
        "# ヤング率 E\n",
        "YOUNG = 205e9\n",
        "# ポアソン比 ν\n",
        "POISSON = 0.27\n",
        "# λ = Eν/((1+ν)(1-2ν))\n",
        "c_lambda = YOUNG * POISSON / ((1.0 + POISSON) * (1.0 - 2.0 * POISSON))\n",
        "# μ = E/(2*(1+ν))\n",
        "c_mu = YOUNG / (2.0 * (1.0 + POISSON))\n",
        "# 弾性係数行列 C (平面ひずみ条件)\n",
        "Cmatrix = np.array([\n",
        "    [c_lambda + 2 * c_mu, c_lambda, 0],\n",
        "    [c_lambda, c_lambda + 2 * c_mu, 0],\n",
        "    [0, 0, c_mu],\n",
        "])"
      ],
      "metadata": {
        "id": "CJmojBFJqEzF"
      },
      "execution_count": null,
      "outputs": []
    },
    {
      "cell_type": "markdown",
      "source": [
        "全体剛性行列の初期化"
      ],
      "metadata": {
        "id": "csV8LZLsqOi2"
      }
    },
    {
      "cell_type": "code",
      "source": [
        "# 全体剛性 (全自由度数 = 次元(n_dof) * 全節点数(n_point))\n",
        "Kmatrix = np.zeros((n_dof * n_point, n_dof * n_point))\n",
        "Fvector = np.zeros(n_dof * n_point)\n",
        "# Bマトリックスの行数 (変形に関する自由度)\n",
        "n_dfdof = 3  # 二次元解析\n",
        "# n_dfdof = 6  # 三次元解析\n",
        "# 要素を構成する節点数(今回はすべて四角形一次)\n",
        "n_intgp = 4\n",
        "# 要素内の積分点数(今回はすべて積分次数2)\n",
        "n_node = 4"
      ],
      "metadata": {
        "id": "byLcbbDsqQJI"
      },
      "execution_count": null,
      "outputs": []
    },
    {
      "cell_type": "markdown",
      "source": [
        "要素剛性行列の計算・全体剛性行列への足し込み（要素ループ）\n",
        "$$\n",
        "\\begin{aligned}\n",
        "\\left[ K^{\\mathrm{e}} \\right]\n",
        "&= \\int_{V^{\\mathrm{e}}} [B]^{\\mathrm{T}} [C] [B] \\mathrm{d}v^{\\mathrm{e}} \\\\\n",
        "& \\approx \\sum_{I_{\\mathrm{g}}=1}^{N_{\\mathrm{g}}}[B]^{\\mathrm{T}} [C] [B]w_{I_{\\mathrm{g}}} \\det \\boldsymbol{J} \\\\\n",
        "&= \\sum_{I_{\\mathrm{g}}=1}^{N_{\\mathrm{g}}}\n",
        "\\begin{bmatrix} \\frac{\\partial N^1}{\\partial x_1} & 0 & \\frac{\\partial N^1}{\\partial x_2} \\\\ 0 & \\frac{\\partial N^1}{\\partial x_2} & \\frac{\\partial N^1}{\\partial x_1} \\\\ \\vdots & \\vdots & \\vdots \\\\ \\frac{\\partial N^N}{\\partial x_1} & 0 & \\frac{\\partial N^N}{\\partial x_2} \\\\ 0 & \\frac{\\partial N^N}{\\partial x_2} & \\frac{\\partial N^N}{\\partial x_1} \\end{bmatrix}\n",
        "\\begin{bmatrix} \\lambda + 2\\mu & \\lambda & 0 \\\\ \\lambda & \\lambda + 2\\mu & 0 \\\\ 0 & 0 & \\mu \\end{bmatrix}\n",
        "\\begin{bmatrix} \\frac{\\partial N^1}{\\partial x_1} & 0 & \\cdots & \\frac{\\partial N^N}{\\partial x_1} & 0 \\\\ 0 & \\frac{\\partial N^1}{\\partial x_2} & \\cdots & 0 & \\frac{\\partial N^N}{\\partial x_2} \\\\ \\frac{\\partial N^1}{\\partial x_2} & \\frac{\\partial N^1}{\\partial x_1} & \\cdots & \\frac{\\partial N^N}{\\partial x_2} & \\frac{\\partial N^N}{\\partial x_1} \\end{bmatrix}\n",
        "w_{I_{\\mathrm{g}}} \\det \\boldsymbol{J}\n",
        "\\end{aligned}\n",
        "$$\n",
        "最終行は平面ひずみ条件のものであることに注意"
      ],
      "metadata": {
        "id": "wwdlPy9ZqSyh"
      }
    },
    {
      "cell_type": "code",
      "source": [
        "for ielm in range(n_element):\n",
        "    # Bマトリックスと重み*ヤコビアンの取得\n",
        "    Bmatrix, wdetJv = get_bmatrix(coords[connectivity[ielm]])\n",
        "    # 行列[B]の作成\n",
        "    Bd = np.zeros((n_intgp, n_dfdof, n_dof * n_node))\n",
        "    Bd[..., 0, ::n_dof] = Bmatrix[..., 0]\n",
        "    Bd[..., 2, ::n_dof] = Bmatrix[..., 1]\n",
        "    Bd[..., 1, 1::n_dof] = Bmatrix[..., 1]\n",
        "    Bd[..., 2, 1::n_dof] = Bmatrix[..., 0]\n",
        "\n",
        "    # 要素剛性行列の計算\n",
        "    ke = np.einsum(\"...gki, kl, ...glj, ...g -> ...ij\", Bd, Cmatrix, Bd, wdetJv)\n",
        "\n",
        "    # 全体剛性行列への足し込み K <- Ke\n",
        "    for inod in range(n_node):\n",
        "        for jnod in range(n_node):\n",
        "            for idof in range(n_dof):\n",
        "                for jdof in range(n_dof):\n",
        "                    ipnt = connectivity[ielm][inod]\n",
        "                    jpnt = connectivity[ielm][jnod]\n",
        "                    Kmatrix[n_dof * ipnt + idof, n_dof * jpnt + jdof] += ke[\n",
        "                        n_dof * inod + idof, n_dof * jnod + jdof\n",
        "                    ]"
      ],
      "metadata": {
        "id": "ImSPwIYJqXzh"
      },
      "execution_count": null,
      "outputs": []
    },
    {
      "cell_type": "markdown",
      "source": [
        "要素剛性行列の計算・全体剛性行列への足し込み（バッチ実行）"
      ],
      "metadata": {
        "id": "sRMgEyyIqnnR"
      }
    },
    {
      "cell_type": "code",
      "source": [
        "# 全体剛性\n",
        "Kmatrix = np.zeros((n_dof * n_point, n_dof * n_point))\n",
        "Fvector = np.zeros(n_dof * n_point)\n",
        "# バッチサイズ(同時に計算する要素数)\n",
        "batch_size = 7\n",
        "\n",
        "# バッチサイズ分一気に計算\n",
        "for idx in range(0, n_element, batch_size):\n",
        "    # 同時に計算する要素番号\n",
        "    batch = list(range(idx, min(idx + batch_size, n_element)))\n",
        "\n",
        "    # Bマトリックス等も一番左にバッチ用の次元が加わる\n",
        "    Bmatrix, wdetJv = get_bmatrix(coords[np.asarray(connectivity)[batch]])\n",
        "    Bd = np.zeros((len(batch), n_intgp, n_dfdof, n_dof * n_node))\n",
        "    Bd[..., 0, ::n_dof] = Bmatrix[..., 0]\n",
        "    Bd[..., 2, ::n_dof] = Bmatrix[..., 1]\n",
        "    Bd[..., 1, 1::n_dof] = Bmatrix[..., 1]\n",
        "    Bd[..., 2, 1::n_dof] = Bmatrix[..., 0]\n",
        "\n",
        "    # 要素剛性行列の計算(einsumを使用するため表記の変更不要)\n",
        "    ke = np.einsum(\"...gki, kl, ...glj, ...g -> ...ij\", Bd, Cmatrix, Bd, wdetJv)\n",
        "\n",
        "    # 全体剛性行列への足し込み(バッチ内の要素ループが追加される)\n",
        "    for i, ielm in enumerate(batch):\n",
        "        for inod in range(n_node):\n",
        "            for jnod in range(n_node):\n",
        "                for idof in range(n_dof):\n",
        "                    for jdof in range(n_dof):\n",
        "                        ipnt = connectivity[ielm][inod]\n",
        "                        jpnt = connectivity[ielm][jnod]\n",
        "                        Kmatrix[n_dof * ipnt + idof, n_dof * jpnt + jdof] += ke[\n",
        "                            i, n_dof * inod + idof, n_dof * jnod + jdof\n",
        "                        ]"
      ],
      "metadata": {
        "id": "qzECeG8OqpS3"
      },
      "execution_count": null,
      "outputs": []
    },
    {
      "cell_type": "markdown",
      "source": [
        "## 6. 境界条件の適用"
      ],
      "metadata": {
        "id": "-fhn2cetqqLX"
      }
    },
    {
      "cell_type": "markdown",
      "source": [
        "境界条件（荷重）"
      ],
      "metadata": {
        "id": "S_dNL6EfqwGB"
      }
    },
    {
      "cell_type": "code",
      "source": [
        "# 境界条件(荷重)\n",
        "for ipnt, idof, force in applied_forces:\n",
        "    # 荷重が加わる全体自由度番号\n",
        "    idx = n_dof * ipnt + idof\n",
        "    # 右辺外力ベクトルに荷重を加える\n",
        "    Fvector[idx] += force"
      ],
      "metadata": {
        "id": "AlxHpIG9qsPW"
      },
      "execution_count": null,
      "outputs": []
    },
    {
      "cell_type": "markdown",
      "source": [
        "境界条件（固定端）"
      ],
      "metadata": {
        "id": "4-vzPSDsqx3s"
      }
    },
    {
      "cell_type": "code",
      "source": [
        "# ペナルティー係数*全体剛性行列成分の最大値\n",
        "penalty = 1.0e8 * np.max(np.abs(Kmatrix))\n",
        "for ipnt, idof in fix_points:\n",
        "    # 固定点の全体自由度番号\n",
        "    idx = n_dof * ipnt + idof\n",
        "    # 全体剛性行列の対角成分にペナルティーを加える\n",
        "    Kmatrix[idx, idx] += penalty"
      ],
      "metadata": {
        "id": "lzgd0bpKq4Y3"
      },
      "execution_count": null,
      "outputs": []
    },
    {
      "cell_type": "markdown",
      "source": [
        "## 7. 剛性方程式の求解"
      ],
      "metadata": {
        "id": "bdskpHuqq65q"
      }
    },
    {
      "cell_type": "markdown",
      "source": [
        "全体剛性方程式$[K]\\{U\\}=\\{F\\}$を解く"
      ],
      "metadata": {
        "id": "7Nrmp7BDrFLz"
      }
    },
    {
      "cell_type": "code",
      "source": [
        "Kmatrix = csr_matrix(Kmatrix)\n",
        "Uvector = spsolve(Kmatrix, Fvector)"
      ],
      "metadata": {
        "id": "FtjaHUbcq_hF"
      },
      "execution_count": null,
      "outputs": []
    },
    {
      "cell_type": "markdown",
      "source": [
        "解析結果のプロット"
      ],
      "metadata": {
        "id": "wg6GPeKtrTsf"
      }
    },
    {
      "cell_type": "code",
      "source": [
        "# 変位を1000倍にしてプロット\n",
        "deformed_coords = coords + 1000 * Uvector.reshape(n_point, n_dof)\n",
        "\n",
        "_, ax = plt.subplots()\n",
        "# 変形前のメッシュを黒，変形後のメッシュを赤色でプロット\n",
        "for cod, c in zip((coords, deformed_coords), (\"black\", \"red\")):\n",
        "    vertices = cod[np.asarray(connectivity)]\n",
        "    if gpu_available:\n",
        "        vertices = np.asnumpy(vertices)\n",
        "    collection = PolyCollection(vertices, edgecolors=c, facecolors=\"none\")\n",
        "    ax.add_collection(collection)\n",
        "\n",
        "ax.autoscale()\n",
        "ax.set_aspect(\"equal\")\n",
        "ax.axis(\"off\")\n",
        "plt.savefig(\"result_2d.png\", dpi=300, transparent=True)"
      ],
      "metadata": {
        "colab": {
          "base_uri": "https://localhost:8080/",
          "height": 218
        },
        "id": "KC5bumq-rWFO",
        "outputId": "82341d2c-ea6e-4ac3-a519-6f6d727fe3d1"
      },
      "execution_count": null,
      "outputs": [
        {
          "output_type": "execute_result",
          "data": {
            "text/plain": [
              "(-0.005015040520716823,\n",
              " 0.10531585093260426,\n",
              " -0.0031352787017170152,\n",
              " 0.021101679938177)"
            ]
          },
          "metadata": {},
          "execution_count": 19
        },
        {
          "output_type": "display_data",
          "data": {
            "text/plain": [
              "<Figure size 640x480 with 1 Axes>"
            ],
            "image/png": "[encoded data removed]"
          },
          "metadata": {}
        }
      ]
    },
    {
      "cell_type": "markdown",
      "source": [
        "以上"
      ],
      "metadata": {
        "id": "c-PulHkFrWjf"
      }
    }
  ]
}