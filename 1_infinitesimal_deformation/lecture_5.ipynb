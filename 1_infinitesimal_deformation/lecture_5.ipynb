{
  "nbformat": 4,
  "nbformat_minor": 0,
  "metadata": {
    "colab": {
      "provenance": [],
      "toc_visible": true
    },
    "kernelspec": {
      "name": "python3",
      "display_name": "Python 3"
    },
    "language_info": {
      "name": "python"
    }
  },
  "cells": [
    {
      "cell_type": "markdown",
      "source": [
        "# Pythonで学ぶ有限要素法（PINNs編）\n",
        "線形等方弾性体の変形をPINNs(Physics-informed neural network)により解くサンプルコードです．  \n",
        "YouTubeチャンネル [大学生・技術者のための有限要素法](https://www.youtube.com/@fempython) の動画に対応しています．  \n",
        "このnotebookには数式と対応するPythonスクリプトしか記載していないため，詳細な解説は対応する動画をご参照ください．"
      ],
      "metadata": {
        "id": "WMfZVAAH36X_"
      }
    },
    {
      "cell_type": "markdown",
      "source": [
        "## 問3. PINNs(Physics-informed neural network)"
      ],
      "metadata": {
        "id": "Po0FvTaf4LmR"
      }
    },
    {
      "cell_type": "markdown",
      "source": [
        "運動方程式\n",
        "$$\n",
        "\\frac{ \\partial \\sigma^{ij}}{ \\partial x^j} + b^i = 0\n",
        "$$\n",
        "構成式\n",
        "$$\n",
        "\\sigma^{ij} = C^{ijkl} \\varepsilon_{kl}\n",
        "$$\n",
        "Neumann境界条件\n",
        "$$\n",
        "t^i = \\bar{t}{}^i, \\quad t^i = \\sigma^{ij}n_j\n",
        "$$\n",
        "Dirichlet境界条件\n",
        "$$\n",
        "u_i = \\bar{u}_i\n",
        "$$\n",
        "全損失\n",
        "$$\n",
        "L\n",
        "=\\alpha_{\\mathrm{EoM}}L_{\\mathrm{EoM}}+\\alpha_{\\mathrm{CL}}L_{\\mathrm{CL}} +\\alpha_{\\mathrm{NBC}}L_{\\mathrm{NBC}}  +\\alpha_{\\mathrm{DBC}}L_{\\mathrm{DBC}}\n",
        "$$\n",
        "運動方程式に関する損失\n",
        "$$\n",
        "L_{\\mathrm{EoM}}\n",
        "=\\left\\| \\frac{\\partial \\sigma^{ij}}{\\partial x^j}+b^i \\right\\|^2_2\n",
        "$$\n",
        "構成式に関する損失\n",
        "$$\n",
        "L_{\\mathrm{CL}}\n",
        "= \\left\\| \\sigma^{ij}\n",
        "- \\frac{1}{2}C^{ijkl} \\varepsilon_{ij} \\right\\|^2_2\n",
        "$$\n",
        "Neumann境界条件に関する誤差\n",
        "$$\n",
        "L_{\\mathrm{NBC}}=\\left\\| \\bar{t}{}^{\\,i} - \\sigma^{ij}n_{j} \\right\\|^2_2\n",
        "$$\n",
        "Dirichlet境界条件に関する誤差\n",
        "$$\n",
        "L_{\\mathrm{DBC}}=\\left\\| \\bar{u}{}_i - u_i \\right\\|^2_2\n",
        "$$\n",
        "\n"
      ],
      "metadata": {
        "id": "z6YrFb-55qB4"
      }
    },
    {
      "cell_type": "markdown",
      "source": [
        "## PINNsの実装"
      ],
      "metadata": {
        "id": "nmlGukcrz2_2"
      }
    },
    {
      "cell_type": "code",
      "source": [
        "%%capture --no-stderr\n",
        "%pip install -U pyDOE"
      ],
      "metadata": {
        "id": "D065KQz3-oks"
      },
      "execution_count": null,
      "outputs": []
    },
    {
      "cell_type": "code",
      "execution_count": null,
      "metadata": {
        "id": "qBz1xrmK30fH"
      },
      "outputs": [],
      "source": [
        "import numpy as np\n",
        "import torch\n",
        "import random\n",
        "\n",
        "# GPUが利用できる場合は利用\n",
        "device = \"cuda\" if torch.cuda.is_available() else \"cpu\"\n",
        "\n",
        "# 乱数シードの設定\n",
        "random.seed(1234)\n",
        "np.random.seed(1234)\n",
        "torch.manual_seed(1234)\n",
        "if torch.cuda.is_available():\n",
        "    torch.cuda.manual_seed_all(1234)"
      ]
    },
    {
      "cell_type": "markdown",
      "source": [
        "### ニューラルネットワークの設定"
      ],
      "metadata": {
        "id": "HzmQVGF70Xdg"
      }
    },
    {
      "cell_type": "code",
      "source": [
        "import torch.nn as nn\n",
        "import torch.nn.init as init"
      ],
      "metadata": {
        "id": "IwJqWJzq5oO8"
      },
      "execution_count": null,
      "outputs": []
    },
    {
      "cell_type": "code",
      "source": [
        "class Net(nn.Module):\n",
        "    def __init__(\n",
        "        self,\n",
        "        n_inputs: int = 2,\n",
        "        n_outputs: int = 5,\n",
        "        n_hidden_layers: int = 2,\n",
        "        n_hidden_neurons: int = 5,\n",
        "        gain: float = 0.5,\n",
        "    ):\n",
        "        super().__init__()\n",
        "        # 入力層\n",
        "        self.input_layer = nn.Linear(n_inputs, n_hidden_neurons)\n",
        "        # 隠れ層\n",
        "        self.hidden_layers = nn.ModuleList(\n",
        "            [\n",
        "                nn.Linear(n_hidden_neurons, n_hidden_neurons)\n",
        "                for _ in range(n_hidden_layers)\n",
        "            ]\n",
        "        )\n",
        "        # 出力層\n",
        "        self.output_layer = nn.Linear(n_hidden_neurons, n_outputs)\n",
        "        # 活性化関数\n",
        "        self.activation = nn.Tanh()\n",
        "\n",
        "        self.gain = gain\n",
        "        # 重みの初期化\n",
        "        self.apply(self._init_weights)\n",
        "\n",
        "    def _init_weights(self, module):\n",
        "        if isinstance(module, nn.Linear):\n",
        "            # Xavier正規分布による初期化\n",
        "            init.xavier_normal_(module.weight, gain=self.gain)\n",
        "            if module.bias is not None:\n",
        "                init.zeros_(module.bias)\n",
        "\n",
        "    def forward(self, x):\n",
        "        x = self.activation(self.input_layer(x))\n",
        "        for hidden in self.hidden_layers:\n",
        "            x = self.activation(hidden(x))\n",
        "        x = self.output_layer(x)\n",
        "        return x"
      ],
      "metadata": {
        "id": "50rzkkZC0SmI"
      },
      "execution_count": null,
      "outputs": []
    },
    {
      "cell_type": "markdown",
      "source": [
        "### 各種パラメータの設定"
      ],
      "metadata": {
        "id": "YjrfiM555poY"
      }
    },
    {
      "cell_type": "code",
      "source": [
        "from typing import Literal\n",
        "from pydantic import BaseModel\n",
        "from pydantic.dataclasses import dataclass"
      ],
      "metadata": {
        "id": "-38i_sju5vPc"
      },
      "execution_count": null,
      "outputs": []
    },
    {
      "cell_type": "markdown",
      "source": [
        "二次元解析条件"
      ],
      "metadata": {
        "id": "TZwqwRC353bc"
      }
    },
    {
      "cell_type": "code",
      "source": [
        "StressCondition = Literal[\"plane_strain\", \"plane_stress\"]"
      ],
      "metadata": {
        "id": "HB9JD0WR53F6"
      },
      "execution_count": null,
      "outputs": []
    },
    {
      "cell_type": "markdown",
      "source": [
        "材料定数"
      ],
      "metadata": {
        "id": "vQ4PJRDz6E_1"
      }
    },
    {
      "cell_type": "code",
      "source": [
        "@dataclass\n",
        "class MaterialConstants:\n",
        "    young: float = 2.05\n",
        "    poisson: float = 0.27"
      ],
      "metadata": {
        "id": "b36rYluL6hFy"
      },
      "execution_count": null,
      "outputs": []
    },
    {
      "cell_type": "markdown",
      "source": [
        "ハイパーパラメータ"
      ],
      "metadata": {
        "id": "7VXsgvSI6h27"
      }
    },
    {
      "cell_type": "code",
      "source": [
        "@dataclass\n",
        "class Params:\n",
        "    # ネットワーク\n",
        "    n_hidden_layers: int = 10\n",
        "    n_hidden_neurons: int = 30\n",
        "    # 解析対象\n",
        "    width: float = 1.0\n",
        "    height: float = 0.2\n",
        "    n_collocation_samples: int = 200\n",
        "    n_boundary_samples: int = 200\n",
        "    use_lhs: bool = True\n",
        "    # 損失関数\n",
        "    a_eom: float = 1.0\n",
        "    a_cl: float = 1.0\n",
        "    a_nbc: float = 1.0\n",
        "    a_dbc: float = 1.0\n",
        "    # Optimizerの設定\n",
        "    # Adam\n",
        "    use_adam1: bool = True\n",
        "    lr_adam1: float = 1.0e-3\n",
        "    steps_adam1: int = 2000\n",
        "    # Adam(2回目)\n",
        "    use_adam2: bool = True\n",
        "    lr_adam2: float = 1.0e-4\n",
        "    steps_adam2: int = 2000\n",
        "    # L-BFGS\n",
        "    use_lbfgs: bool = True\n",
        "    max_iter: int = 100000\n",
        "    tolerance_grad: float = 1.0e-5\n",
        "    tolerance_change: float = 1.0e-9\n",
        "    history_size: int = 50\n",
        "    line_search_fn: str = \"strong_wolfe\"\n",
        "    # 表面力\n",
        "    t0: float = -5.0e-8\n",
        "    # 初期化のGain\n",
        "    gain: float = 0.5\n",
        "    # 二次元解析条件\n",
        "    stress_condition: StressCondition = \"plane_strain\""
      ],
      "metadata": {
        "id": "PdLKKMJj6j8n"
      },
      "execution_count": null,
      "outputs": []
    },
    {
      "cell_type": "markdown",
      "source": [
        "### 損失関数の設定"
      ],
      "metadata": {
        "id": "v88394D1502p"
      }
    },
    {
      "cell_type": "markdown",
      "source": [
        "支配方程式に関する損失"
      ],
      "metadata": {
        "id": "CFfZEPPA0u5v"
      }
    },
    {
      "cell_type": "code",
      "source": [
        "def gradient(\n",
        "    dy: torch.Tensor,\n",
        "    dx: list[torch.Tensor],\n",
        ") -> list[torch.Tensor]:\n",
        "    \"\"\"勾配の計算 dy/dx^i\"\"\"\n",
        "    dy_dx = torch.autograd.grad(\n",
        "        [dy],\n",
        "        dx,\n",
        "        grad_outputs=[torch.ones_like(dy)],\n",
        "        create_graph=True,\n",
        "        retain_graph=True,\n",
        "        allow_unused=False,\n",
        "    )\n",
        "\n",
        "    grads = [\n",
        "        grad if grad is not None else torch.zeros_like(dx[i])\n",
        "        for i, grad in enumerate(dy_dx)\n",
        "    ]\n",
        "    return grads"
      ],
      "metadata": {
        "id": "AGwWXoV-04yq"
      },
      "execution_count": null,
      "outputs": []
    },
    {
      "cell_type": "code",
      "source": [
        "def loss_fn_pde(\n",
        "    net,\n",
        "    x: torch.Tensor,\n",
        "    b: torch.Tensor,\n",
        "    mater: MaterialConstants,\n",
        "    stress_condition: StressCondition = \"plane_strain\",\n",
        ") -> tuple[torch.Tensor, torch.Tensor]:\n",
        "    \"\"\"支配方程式に関する損失の計算\"\"\"\n",
        "    # x1, x2 -> u1, u2, s11, s22, s12\n",
        "    x1 = x[:, 0].clone().detach().requires_grad_(True)\n",
        "    x2 = x[:, 1].clone().detach().requires_grad_(True)\n",
        "    X = torch.stack([x1, x2], dim=1)\n",
        "    u1, u2, s11, s22, s12 = net(X).unbind(dim=1)\n",
        "    b1, b2 = b.unbind(dim=1)\n",
        "\n",
        "    # 応力と変位の空間勾配を計算\n",
        "    (s11_1,) = gradient(s11, [x1])\n",
        "    (s22_2,) = gradient(s22, [x2])\n",
        "    s12_1, s12_2 = gradient(s12, [x1, x2])\n",
        "    u1_1, u1_2 = gradient(u1, [x1, x2])\n",
        "    u2_1, u2_2 = gradient(u2, [x1, x2])\n",
        "\n",
        "    # ひずみ\n",
        "    e11 = u1_1\n",
        "    e22 = u2_2\n",
        "    e12 = 0.5 * (u1_2 + u2_1)\n",
        "\n",
        "    if stress_condition == \"plane_strain\":\n",
        "        # 平面ひずみ条件\n",
        "        # λ = Eν/((1+ν)(1-2ν))\n",
        "        c_lambda = (\n",
        "            mater.young\n",
        "            * mater.poisson\n",
        "            / ((1.0 + mater.poisson) * (1.0 - 2.0 * mater.poisson))\n",
        "        )\n",
        "        # μ = E/(2*(1+ν))\n",
        "        c_mu = mater.young / (2.0 * (1.0 + mater.poisson))\n",
        "\n",
        "        # 構成式の残差\n",
        "        rc11 = c_lambda * (e11 + e22) + 2 * c_mu * e11 - s11\n",
        "        rc22 = c_lambda * (e11 + e22) + 2 * c_mu * e22 - s22\n",
        "        rc12 = 2 * c_mu * e12 - s12\n",
        "        loss_cl = torch.mean(rc11**2 + rc22**2 + rc12**2)\n",
        "    else:\n",
        "        # 平面応力条件\n",
        "        # 構成式の残差\n",
        "        c_coef = mater.young / (1.0 - mater.poisson**2)\n",
        "        rc11 = c_coef * (e11 + mater.poisson * e22) - s11\n",
        "        rc22 = c_coef * (mater.poisson * e11 + e22) - s22\n",
        "        rc12 = (mater.young / (1.0 + mater.poisson)) * e12 - s12\n",
        "        loss_cl = torch.mean(rc11**2 + rc22**2 + rc12**2)\n",
        "\n",
        "    # 運動方程式の残差\n",
        "    rm1 = s11_1 + s12_2 + b1\n",
        "    rm2 = s12_1 + s22_2 + b2\n",
        "    loss_eom = torch.mean(rm1**2 + rm2**2)\n",
        "\n",
        "    return loss_cl, loss_eom"
      ],
      "metadata": {
        "id": "RqOCWt-g1Ds-"
      },
      "execution_count": null,
      "outputs": []
    },
    {
      "cell_type": "markdown",
      "source": [
        "Neumann境界条件に関する損失"
      ],
      "metadata": {
        "id": "1O5GNrAK7y4l"
      }
    },
    {
      "cell_type": "code",
      "source": [
        "def loss_fn_bc_neumann(\n",
        "    net, x: torch.Tensor, n: torch.Tensor, tbar: torch.Tensor\n",
        ") -> torch.Tensor:\n",
        "    \"\"\"Neumann境界条件に関する損失を計算\"\"\"\n",
        "    # x1, x2 -> u1, u2, s11, s22, s12\n",
        "    _, _, s11, s22, s12 = net(x).unbind(dim=1)\n",
        "    n1, n2 = n.unbind(dim=1)\n",
        "    tbar1, tbar2 = tbar.unbind(dim=1)\n",
        "\n",
        "    # 表面力ti\n",
        "    t1 = s11 * n1 + s12 * n2\n",
        "    t2 = s12 * n1 + s22 * n2\n",
        "    # 応力から計算された表面力と境界条件として与えた表面力の平均二乗誤差\n",
        "    loss_nbc = torch.mean((tbar1 - t1) ** 2 + (tbar2 - t2) ** 2)\n",
        "\n",
        "    return loss_nbc"
      ],
      "metadata": {
        "id": "woBJfMlw73e_"
      },
      "execution_count": null,
      "outputs": []
    },
    {
      "cell_type": "markdown",
      "source": [
        "Dirichlet境界条件に関する損失"
      ],
      "metadata": {
        "id": "qHYKJG8u8VLv"
      }
    },
    {
      "cell_type": "code",
      "source": [
        "def loss_fn_bc_dirichlet(\n",
        "    net, x: torch.Tensor, ubar: torch.Tensor\n",
        ") -> torch.Tensor:\n",
        "    \"\"\"Dirichlet境界条件に関する損失を計算\"\"\"\n",
        "    # x1, x2 -> u1, u2\n",
        "    u1, u2, _, _, _ = net(x).unbind(dim=1)\n",
        "    ubar1, ubar2 = ubar.unbind(dim=1)\n",
        "    # 出力された変位と変位境界条件の平均二乗誤差\n",
        "    loss_dbc = torch.mean((ubar1 - u1) ** 2 + (ubar2 - u2) ** 2)\n",
        "\n",
        "    return loss_dbc"
      ],
      "metadata": {
        "id": "D6ZO14cL8XLs"
      },
      "execution_count": null,
      "outputs": []
    },
    {
      "cell_type": "markdown",
      "source": [
        "### 学習用各種関数設定"
      ],
      "metadata": {
        "id": "Uu9yrlT180fl"
      }
    },
    {
      "cell_type": "markdown",
      "source": [
        "解析条件をまとめたクラス"
      ],
      "metadata": {
        "id": "a2tBwiPG82-h"
      }
    },
    {
      "cell_type": "code",
      "source": [
        "class Problem(BaseModel):\n",
        "    x_coll: torch.Tensor  # 領域内部の評価点\n",
        "    x_nbc: torch.Tensor  # Neumann境界条件の評価点\n",
        "    x_dbc: torch.Tensor  # Dirichlet境界条件の評価点\n",
        "    n_nbc: torch.Tensor  # 法線ベクトル(Neumann境界条件の損失で利用)\n",
        "    t_nbc: torch.Tensor  # 表面力ベクトル(Neumann境界条件の損失で利用)\n",
        "    d_dbc: torch.Tensor  # 強制変位（Neumann境界条件の損失で利用）\n",
        "    bf: torch.Tensor  # 物体力ベクトル\n",
        "\n",
        "    class Config:\n",
        "        arbitrary_types_allowed = True"
      ],
      "metadata": {
        "id": "ntAr74St86a5"
      },
      "execution_count": null,
      "outputs": []
    },
    {
      "cell_type": "markdown",
      "source": [
        "各種損失の記録用クラス"
      ],
      "metadata": {
        "id": "QAY7AV_H9Wzm"
      }
    },
    {
      "cell_type": "code",
      "source": [
        "class Loss(BaseModel):\n",
        "    all: list[float] = []\n",
        "    constitutive: list[float] = []\n",
        "    eom: list[float] = []\n",
        "    neumann: list[float] = []\n",
        "    dirichlet: list[float] = []"
      ],
      "metadata": {
        "id": "sxVG0_Y09YS6"
      },
      "execution_count": null,
      "outputs": []
    },
    {
      "cell_type": "markdown",
      "source": [
        "学習用関数(汎用)"
      ],
      "metadata": {
        "id": "CtLrDy_A9gQw"
      }
    },
    {
      "cell_type": "code",
      "source": [
        "def train(\n",
        "    net,\n",
        "    optimizer,\n",
        "    prob: Problem,\n",
        "    mater: MaterialConstants,\n",
        "    param: Params,\n",
        "    losses: Loss,\n",
        "    num_epochs: int,\n",
        "    grad_clip_value: float = 1.0,\n",
        "):\n",
        "    net.train()\n",
        "    for epoch in range(num_epochs):\n",
        "        optimizer.zero_grad()\n",
        "        # PDE(運動方程式，構成式)に関する損失\n",
        "        loss_cl, loss_eom = loss_fn_pde(\n",
        "            net,\n",
        "            prob.x_coll,\n",
        "            prob.bf,\n",
        "            mater,\n",
        "            param.stress_condition,\n",
        "        )\n",
        "        # Neumann B.C.に関する損失\n",
        "        loss_bc_neumann = loss_fn_bc_neumann(net, prob.x_nbc, prob.n_nbc, prob.t_nbc)\n",
        "        # Dirichlet B.C.に関する損失\n",
        "        loss_bc_dirichlet = loss_fn_bc_dirichlet(net, prob.x_dbc, prob.d_dbc)\n",
        "        # Total loss\n",
        "        loss = (\n",
        "            param.a_cl * loss_cl\n",
        "            + param.a_eom * loss_eom\n",
        "            + param.a_nbc * loss_bc_neumann\n",
        "            + param.a_dbc * loss_bc_dirichlet\n",
        "        )\n",
        "\n",
        "        # 誤差逆伝播\n",
        "        loss.backward()\n",
        "        torch.nn.utils.clip_grad_norm_(net.parameters(), grad_clip_value)\n",
        "        optimizer.step()\n",
        "\n",
        "        # 各損失の記録\n",
        "        losses.all.append(loss.item())\n",
        "        losses.constitutive.append(loss_cl.item())\n",
        "        losses.eom.append(loss_eom.item())\n",
        "        losses.neumann.append(loss_bc_neumann.item())\n",
        "        losses.dirichlet.append(loss_bc_dirichlet.item())\n",
        "\n",
        "        if epoch % 100 == 0:\n",
        "            print(\n",
        "                \"Epoch: %d, loss_total: %.3e, loss_constitutive: %.3e, loss_EoM: %.3e, loss_Neumann: %.3e, loss_Dirichlet: %.3e\"\n",
        "                % (\n",
        "                    epoch,\n",
        "                    loss.item(),\n",
        "                    loss_cl.item(),\n",
        "                    loss_eom.item(),\n",
        "                    loss_bc_neumann.item(),\n",
        "                    loss_bc_dirichlet.item(),\n",
        "                )\n",
        "            )"
      ],
      "metadata": {
        "id": "OD9-L78l9f2s"
      },
      "execution_count": null,
      "outputs": []
    },
    {
      "cell_type": "markdown",
      "source": [
        "学習用関数(L-BFGS用) < 複数回勾配の評価が必要なため別途用意"
      ],
      "metadata": {
        "id": "Oi6S9G5gASij"
      }
    },
    {
      "cell_type": "code",
      "source": [
        "def train_bfgs(\n",
        "    net,\n",
        "    optimizer,\n",
        "    prob: Problem,\n",
        "    mater: MaterialConstants,\n",
        "    param: Params,\n",
        "    losses: Loss,\n",
        "):\n",
        "    net.train()\n",
        "\n",
        "    cnt = 0\n",
        "\n",
        "    def closure():\n",
        "        nonlocal cnt\n",
        "        optimizer.zero_grad()\n",
        "        # PDE(運動方程式，構成式)に関する損失\n",
        "        loss_cl, loss_eom = loss_fn_pde(\n",
        "            net, prob.x_coll, prob.bf, mater, param.stress_condition\n",
        "        )\n",
        "        # Neumann B.C.に関する損失\n",
        "        loss_bc_neumann = loss_fn_bc_neumann(net, prob.x_nbc, prob.n_nbc, prob.t_nbc)\n",
        "        # Dirichlet B.C.に関する損失\n",
        "        loss_bc_dirichlet = loss_fn_bc_dirichlet(net, prob.x_dbc, prob.d_dbc)\n",
        "        # Total loss\n",
        "        loss = (\n",
        "            param.a_cl * loss_cl\n",
        "            + param.a_eom * loss_eom\n",
        "            + param.a_nbc * loss_bc_neumann\n",
        "            + param.a_dbc * loss_bc_dirichlet\n",
        "        )\n",
        "        # 誤差逆伝播\n",
        "        loss.backward(retain_graph=True)\n",
        "\n",
        "        # 各損失の記録\n",
        "        losses.all.append(loss.item())\n",
        "        losses.constitutive.append(loss_cl.item())\n",
        "        losses.eom.append(loss_eom.item())\n",
        "        losses.neumann.append(loss_bc_neumann.item())\n",
        "        losses.dirichlet.append(loss_bc_dirichlet.item())\n",
        "        cnt += 1\n",
        "\n",
        "        if cnt % 100 == 0:\n",
        "            print(\n",
        "                \"%d th iterations, loss_total: %.3e, loss_constitutive: %.3e, loss_EoM: %.3e, loss_Neumann: %.3e, loss_Dirichlet: %.3e\"\n",
        "                % (\n",
        "                    cnt,\n",
        "                    loss.item(),\n",
        "                    loss_cl.item(),\n",
        "                    loss_eom.item(),\n",
        "                    loss_bc_neumann.item(),\n",
        "                    loss_bc_dirichlet.item(),\n",
        "                )\n",
        "            )\n",
        "        return loss\n",
        "\n",
        "    optimizer.step(closure)"
      ],
      "metadata": {
        "id": "mEpMY_q5Ag3v"
      },
      "execution_count": null,
      "outputs": []
    },
    {
      "cell_type": "markdown",
      "source": [
        "### 結果表示用関数"
      ],
      "metadata": {
        "id": "l0u4fkYSA49F"
      }
    },
    {
      "cell_type": "code",
      "source": [
        "from pathlib import Path\n",
        "import matplotlib.pyplot as plt\n",
        "import matplotlib.ticker as ticker"
      ],
      "metadata": {
        "id": "ypFmYDL3CTtp"
      },
      "execution_count": null,
      "outputs": []
    },
    {
      "cell_type": "markdown",
      "source": [
        "解析条件の表示"
      ],
      "metadata": {
        "id": "csbsFjSeCP_w"
      }
    },
    {
      "cell_type": "code",
      "source": [
        "def plot_analysis_conditions(\n",
        "    *,\n",
        "    x_coll: np.ndarray,\n",
        "    x_nbc: np.ndarray,\n",
        "    x_dbc: np.ndarray,\n",
        "    output_path: str | Path | None = None,\n",
        "):\n",
        "    \"\"\"解析条件の表示\"\"\"\n",
        "    _, ax = plt.subplots()\n",
        "    ax.set_aspect(\"equal\")\n",
        "    ax.scatter(\n",
        "        x_coll[:, 0],\n",
        "        x_coll[:, 1],\n",
        "        marker=\"x\",\n",
        "        color=\"black\",\n",
        "        s=0.01,\n",
        "        label=\"Collocation points\",\n",
        "    )\n",
        "    ax.scatter(\n",
        "        x_nbc[:, 0],\n",
        "        x_nbc[:, 1],\n",
        "        marker=\"x\",\n",
        "        color=\"red\",\n",
        "        s=1,\n",
        "        label=\"Neumann B.C.\",\n",
        "    )\n",
        "    ax.scatter(\n",
        "        x_dbc[:, 0],\n",
        "        x_dbc[:, 1],\n",
        "        marker=\"x\",\n",
        "        color=\"blue\",\n",
        "        s=1,\n",
        "        label=\"Dirichlet B.C.\",\n",
        "    )\n",
        "    ax.axis(\"off\")\n",
        "    ax.legend(\n",
        "        bbox_to_anchor=(1.05, 0.5),\n",
        "        loc=\"center left\",\n",
        "        borderaxespad=0,\n",
        "        frameon=False,\n",
        "    )\n",
        "\n",
        "    if output_path:\n",
        "        plt.savefig(output_path, dpi=300, transparent=True)"
      ],
      "metadata": {
        "id": "5okmKWPgBMUm"
      },
      "execution_count": null,
      "outputs": []
    },
    {
      "cell_type": "markdown",
      "source": [
        "各損失の表示"
      ],
      "metadata": {
        "id": "znZcGDAwCZ_1"
      }
    },
    {
      "cell_type": "code",
      "source": [
        "def plot_loss(losses: Loss, output_path: str | Path | None = None):\n",
        "    \"\"\"各損失の表示\"\"\"\n",
        "    _, ax = plt.subplots()\n",
        "\n",
        "    # 損失のプロット\n",
        "    ax.plot(losses.all, label=\"Total loss\", linestyle=\"-\")\n",
        "    ax.plot(losses.constitutive, label=\"Constitutive law\", linestyle=\"--\")\n",
        "    ax.plot(losses.eom, label=\"Equation of motion\", linestyle=\":\")\n",
        "    ax.plot(losses.neumann, label=\"Neumann B.C.\", linestyle=\"-.\")\n",
        "    ax.plot(losses.dirichlet, label=\"Dirichlet B.C.\", linestyle=\"-.\")\n",
        "\n",
        "    # ラベル設定\n",
        "    ax.set_xlabel(\"Iteration\")\n",
        "    ax.set_ylabel(\"Loss\")\n",
        "    ax.set_yscale(\"log\")\n",
        "    ax.legend(loc=\"upper right\", frameon=False)\n",
        "\n",
        "    # 軸の設定\n",
        "    ax.tick_params(axis=\"both\", direction=\"in\", top=True, right=True)\n",
        "    ax.yaxis.set_minor_locator(ticker.LogLocator(base=10.0, subs=\"auto\", numticks=10))\n",
        "    ax.tick_params(axis=\"y\", which=\"both\", direction=\"in\", right=True)\n",
        "\n",
        "    if output_path:\n",
        "        plt.savefig(output_path, dpi=300, transparent=True)"
      ],
      "metadata": {
        "id": "US126a8PCfU3"
      },
      "execution_count": null,
      "outputs": []
    },
    {
      "cell_type": "markdown",
      "source": [
        "解析結果の表示"
      ],
      "metadata": {
        "id": "mx8rLP7_DErR"
      }
    },
    {
      "cell_type": "code",
      "source": [
        "def plot_results(\n",
        "    coords: np.ndarray,  # 座標\n",
        "    vals: list[list[tuple[str, np.ndarray]]],  # (ラベル, 値)の組\n",
        "    output_path: str | Path | None = None,\n",
        "):\n",
        "    \"\"\"解析結果の表示\"\"\"\n",
        "    n_rows = len(vals)\n",
        "    n_cols = max([len(v) for v in vals])\n",
        "\n",
        "    fig, axs = plt.subplots(n_rows, n_cols, figsize=(5 * n_cols, 5 * n_rows))\n",
        "    for irow, fields in enumerate(vals):\n",
        "        for icol, (name, val) in enumerate(fields):\n",
        "            ax = axs[irow, icol]\n",
        "            sc = ax.scatter(\n",
        "                coords[:, 0],\n",
        "                coords[:, 1],\n",
        "                c=val,\n",
        "                alpha=0.7,\n",
        "                edgecolors=\"none\",\n",
        "                cmap=\"rainbow\",\n",
        "                marker=\"o\",\n",
        "                s=2,\n",
        "            )\n",
        "            ax.set_xticks([])\n",
        "            ax.set_yticks([])\n",
        "            ax.set_aspect(\"equal\")\n",
        "            ax.set_title(name)\n",
        "            fig.colorbar(sc, ax=ax)\n",
        "            ax.axis(\"off\")\n",
        "\n",
        "        # 不要な枠削除\n",
        "        for icol in range(len(fields) - n_cols, 0):\n",
        "            axs[0, icol].axis(\"off\")\n",
        "\n",
        "    plt.tight_layout()\n",
        "\n",
        "    if output_path:\n",
        "        plt.savefig(output_path, dpi=300, transparent=True)"
      ],
      "metadata": {
        "id": "zhgdpcc8DGSO"
      },
      "execution_count": null,
      "outputs": []
    },
    {
      "cell_type": "markdown",
      "source": [
        "### 学習の実行"
      ],
      "metadata": {
        "id": "oRWOPPjwDuEB"
      }
    },
    {
      "cell_type": "code",
      "source": [
        "# 材料定数\n",
        "mater = MaterialConstants()\n",
        "# ハイパーパラメータ\n",
        "params = Params()"
      ],
      "metadata": {
        "id": "a8knDvVPF8a2"
      },
      "execution_count": null,
      "outputs": []
    },
    {
      "cell_type": "markdown",
      "source": [
        "学習に用いる評価点の生成と境界条件の指定"
      ],
      "metadata": {
        "id": "w7AEqL27DxgH"
      }
    },
    {
      "cell_type": "code",
      "source": [
        "from pyDOE import lhs"
      ],
      "metadata": {
        "id": "NVO8EgsV-7iA"
      },
      "execution_count": null,
      "outputs": []
    },
    {
      "cell_type": "code",
      "source": [
        "def generate_samples(\n",
        "    size: tuple[float, float],\n",
        "    n_collocation_samples: tuple[int, int],\n",
        "    n_boundary_samples: tuple[int, int],\n",
        "    t0: float,\n",
        "    use_lhs: bool = True,\n",
        ") -> Problem:\n",
        "    \"\"\"学習に用いる評価点の生成と境界条件の設定を行い，Problemクラスにまとめて返す\"\"\"\n",
        "    # 解析領域の大きさ\n",
        "    width, height = size\n",
        "    # 領域内部の評価点数\n",
        "    n_coll_samples_x, n_coll_samples_y = n_collocation_samples\n",
        "    # 境界上の評価点数\n",
        "    n_b_samples_x, n_b_samples_y = n_boundary_samples\n",
        "\n",
        "    # 領域内部の評価点を生成\n",
        "    if use_lhs:\n",
        "        x_coll = lhs(2, n_coll_samples_x * n_coll_samples_y)\n",
        "        x_coll1 = x_coll[:, 0] * width\n",
        "        x_coll2 = x_coll[:, 1] * height\n",
        "        x_coll = np.vstack((x_coll1, x_coll2)).T\n",
        "    else:\n",
        "        x_coll1 = np.linspace(0.0, width, num=n_coll_samples_x)\n",
        "        x_coll2 = np.linspace(0.0, height, num=n_coll_samples_y)\n",
        "        x_coll1, x_coll2 = np.meshgrid(x_coll1, x_coll2)\n",
        "        x_coll = np.vstack((x_coll1.flatten(), x_coll2.flatten())).T\n",
        "\n",
        "    # left (Dirichlet B.C.)\n",
        "    if use_lhs:\n",
        "        x_l1 = np.zeros(n_b_samples_y)\n",
        "        x_l2 = lhs(1, samples=n_b_samples_y)[:, 0] * height\n",
        "        x_left = np.vstack((x_l1, x_l2)).T\n",
        "    else:\n",
        "        x_left = np.zeros((n_b_samples_y, 2))\n",
        "        x_left[:, 1] = np.linspace(0.0, height, num=n_b_samples_y)\n",
        "    # 左辺は完全固定\n",
        "    d_left = np.zeros((n_b_samples_y, 2))\n",
        "\n",
        "    # right (Neumann B.C.)\n",
        "    if use_lhs:\n",
        "        x_r1 = np.ones(n_b_samples_y) * width\n",
        "        x_r2 = lhs(1, samples=n_b_samples_y)[:, 0] * height\n",
        "        x_right = np.vstack((x_r1, x_r2)).T\n",
        "    else:\n",
        "        x_right = np.zeros((n_b_samples_y, 2))\n",
        "        x_right[:, 0] = width\n",
        "        x_right[:, 1] = np.linspace(0.0, height, num=n_b_samples_y)\n",
        "    # 法線ベクトル\n",
        "    n_right = np.zeros((n_b_samples_y, 2))\n",
        "    n_right[:, 0] = 1.0\n",
        "    # 右辺上半分の領域に分布荷重を与える\n",
        "    t_right = np.zeros((n_b_samples_y, 2))\n",
        "    t_right[:, 1] = np.where(x_right[:, 1] >= height / 2, t0, 0.0)\n",
        "\n",
        "    # bottom (Neumann B.C.)\n",
        "    if use_lhs:\n",
        "        x_b1 = lhs(1, samples=n_b_samples_x)[:, 0] * width\n",
        "        x_b2 = np.zeros(n_b_samples_x)\n",
        "        x_bottom = np.vstack((x_b1, x_b2)).T\n",
        "    else:\n",
        "        x_bottom = np.zeros((n_b_samples_x, 2))\n",
        "        x_bottom[:, 0] = np.linspace(0.0, width, num=n_b_samples_x)\n",
        "    # 法線ベクトル\n",
        "    n_bottom = np.zeros((n_b_samples_x, 2))\n",
        "    n_bottom[:, 1] = -1.0\n",
        "    # 表面力は零\n",
        "    t_bottom = np.zeros((n_b_samples_x, 2))\n",
        "\n",
        "    # Top (Neumann B.C.)\n",
        "    if use_lhs:\n",
        "        x_t1 = lhs(1, samples=n_b_samples_x)[:, 0] * width\n",
        "        x_t2 = np.ones(n_b_samples_x) * height\n",
        "        x_top = np.vstack((x_t1, x_t2)).T\n",
        "    else:\n",
        "        x_top = np.zeros((n_b_samples_x, 2))\n",
        "        x_top[:, 0] = np.linspace(0.0, width, num=n_b_samples_x)\n",
        "        x_top[:, 1] = height\n",
        "    # 法線ベクトル\n",
        "    n_top = np.zeros((n_b_samples_x, 2))\n",
        "    n_top[:, 1] = 1.0\n",
        "    # 表面力は零\n",
        "    t_top = np.zeros((n_b_samples_x, 2))\n",
        "\n",
        "    # Dirichlet B.C.(let)の評価点，強制変位\n",
        "    x_dbc = x_left\n",
        "    d_dbc = d_left\n",
        "\n",
        "    # Neumann B.C.(right, top, bottom)の評価点，法線ベクトル，表面力\n",
        "    x_nbc = np.concatenate((x_right, x_top, x_bottom), axis=0)\n",
        "    n_nbc = np.concatenate((n_right, n_top, n_bottom), axis=0)\n",
        "    t_nbc = np.concatenate((t_right, t_top, t_bottom), axis=0)\n",
        "\n",
        "    # 物体力(今回は零)\n",
        "    bf = np.zeros(x_coll.shape)\n",
        "\n",
        "    # np.ndarray > torch.Tensor\n",
        "    x_coll = torch.tensor(\n",
        "        x_coll, dtype=torch.float32, device=device, requires_grad=True\n",
        "    )\n",
        "    x_nbc = torch.tensor(x_nbc, dtype=torch.float32, device=device, requires_grad=True)\n",
        "    n_nbc = torch.tensor(n_nbc, dtype=torch.float32, device=device, requires_grad=True)\n",
        "    t_nbc = torch.tensor(t_nbc, dtype=torch.float32, device=device, requires_grad=True)\n",
        "    x_dbc = torch.tensor(x_dbc, dtype=torch.float32, device=device, requires_grad=True)\n",
        "    d_dbc = torch.tensor(d_dbc, dtype=torch.float32, device=device, requires_grad=True)\n",
        "    bf = torch.tensor(bf, dtype=torch.float32, device=device, requires_grad=True)\n",
        "\n",
        "    return Problem(\n",
        "        x_coll=x_coll,\n",
        "        x_nbc=x_nbc,\n",
        "        x_dbc=x_dbc,\n",
        "        n_nbc=n_nbc,\n",
        "        t_nbc=t_nbc,\n",
        "        d_dbc=d_dbc,\n",
        "        bf=bf,\n",
        "    )"
      ],
      "metadata": {
        "id": "tBs4BOS3Dx34"
      },
      "execution_count": null,
      "outputs": []
    },
    {
      "cell_type": "markdown",
      "source": [
        "問題の設定"
      ],
      "metadata": {
        "id": "XRTnkHNZG4bB"
      }
    },
    {
      "cell_type": "code",
      "source": [
        "prob = generate_samples(\n",
        "    size=(params.width, params.height),\n",
        "    n_collocation_samples=(\n",
        "        int(params.n_collocation_samples * params.width),\n",
        "        int(params.n_collocation_samples * params.height),\n",
        "    ),\n",
        "    n_boundary_samples=(\n",
        "        int(params.n_boundary_samples * params.width),\n",
        "        int(params.n_boundary_samples * params.height),\n",
        "    ),\n",
        "    t0=params.t0,\n",
        "    use_lhs=params.use_lhs,\n",
        ")"
      ],
      "metadata": {
        "id": "YqQrsWADFlzo"
      },
      "execution_count": null,
      "outputs": []
    },
    {
      "cell_type": "markdown",
      "source": [
        "評価点の確認"
      ],
      "metadata": {
        "id": "EfUPFz3fGzbL"
      }
    },
    {
      "cell_type": "code",
      "source": [
        "plot_analysis_conditions(x_coll=prob.x_coll.cpu().detach().numpy(), x_nbc=prob.x_nbc.cpu().detach().numpy(), x_dbc=prob.x_dbc.cpu().detach().numpy())"
      ],
      "metadata": {
        "id": "lE7lN0niGNbh"
      },
      "execution_count": null,
      "outputs": []
    },
    {
      "cell_type": "markdown",
      "source": [
        "ニューラルネットワークの生成"
      ],
      "metadata": {
        "id": "FH4wz6uZG66K"
      }
    },
    {
      "cell_type": "code",
      "source": [
        "net = Net(\n",
        "    n_hidden_layers=params.n_hidden_layers,\n",
        "    n_hidden_neurons=params.n_hidden_neurons,\n",
        "    gain=params.gain,\n",
        ").to(device)\n",
        "print(net)"
      ],
      "metadata": {
        "id": "xysPx3wZG9Cu"
      },
      "execution_count": null,
      "outputs": []
    },
    {
      "cell_type": "markdown",
      "source": [
        "学習の実行"
      ],
      "metadata": {
        "id": "nOokZViYHEsR"
      }
    },
    {
      "cell_type": "code",
      "source": [
        "losses = Loss()"
      ],
      "metadata": {
        "id": "NQ20SMR3HI91"
      },
      "execution_count": null,
      "outputs": []
    },
    {
      "cell_type": "markdown",
      "source": [
        "先行研究に倣い，Adam(学習率大) > Adam(学習率小) > L-BFGSの順に実行"
      ],
      "metadata": {
        "id": "pbC7jMi_HTqf"
      }
    },
    {
      "cell_type": "code",
      "source": [
        "import torch.optim as optim"
      ],
      "metadata": {
        "id": "c4I1h19z_rD4"
      },
      "execution_count": null,
      "outputs": []
    },
    {
      "cell_type": "code",
      "source": [
        "def tran_pinns(net, prob: Problem, mater: MaterialConstants, params: Params, losses: Loss):\n",
        "    \"\"\"Adam(学習率大) > Adam(学習率小) > L-BFGSの順に学習\"\"\"\n",
        "    # Adam(学習率大)\n",
        "    if params.use_adam1:\n",
        "        optimizer = optim.Adam(net.parameters(), lr=params.lr_adam1)\n",
        "        print(\"Start train [Adam]\")\n",
        "        train(\n",
        "            net,\n",
        "            optimizer,\n",
        "            prob,\n",
        "            mater,\n",
        "            params,\n",
        "            losses,\n",
        "            params.steps_adam1,\n",
        "        )\n",
        "        print(\"End train [Adam]\")\n",
        "\n",
        "    # Adam (学習率小)\n",
        "    if params.use_adam2:\n",
        "        optimizer2 = optim.Adam(net.parameters(), lr=params.lr_adam2)\n",
        "        print(\"Start train [Adam2]\")\n",
        "        train(\n",
        "            net,\n",
        "            optimizer2,\n",
        "            prob,\n",
        "            mater,\n",
        "            params,\n",
        "            losses,\n",
        "            params.steps_adam2,\n",
        "        )\n",
        "        print(\"End train [Adam2]\")\n",
        "\n",
        "    # L-BFGS (これまでの学習状況によっては実行されない)\n",
        "    if params.use_lbfgs:\n",
        "        optimizer_lbfgs = optim.LBFGS(\n",
        "            net.parameters(),\n",
        "            max_iter=params.max_iter,\n",
        "            tolerance_grad=params.tolerance_grad,\n",
        "            tolerance_change=params.tolerance_change,\n",
        "            history_size=params.history_size,\n",
        "            line_search_fn=params.line_search_fn,\n",
        "        )\n",
        "        print(\"Start train [LBFGS]\")\n",
        "        train_bfgs(\n",
        "            net,\n",
        "            optimizer_lbfgs,\n",
        "            prob,\n",
        "            mater,\n",
        "            params,\n",
        "            losses,\n",
        "        )\n",
        "        print(\"End train [LBFGS]\")\n"
      ],
      "metadata": {
        "id": "rt9x_LK71vlJ"
      },
      "execution_count": null,
      "outputs": []
    },
    {
      "cell_type": "code",
      "source": [
        "%%time\n",
        "tran_pinns(net, prob, mater, params, losses)"
      ],
      "metadata": {
        "id": "CSfkFBvhHLRQ"
      },
      "execution_count": null,
      "outputs": []
    },
    {
      "cell_type": "markdown",
      "source": [
        "損失関数のプロット"
      ],
      "metadata": {
        "id": "l_ZntWMNIQgG"
      }
    },
    {
      "cell_type": "code",
      "source": [
        "plot_loss(losses, output_path=\"loss.png\")"
      ],
      "metadata": {
        "id": "Td0DBcxNHiYc"
      },
      "execution_count": null,
      "outputs": []
    },
    {
      "cell_type": "markdown",
      "source": [
        "学習後のモデルで変位と応力の分布を計算"
      ],
      "metadata": {
        "id": "TJS8nRu0IcpQ"
      }
    },
    {
      "cell_type": "code",
      "source": [
        "# 結果を評価するための点を均等に配置する\n",
        "n_eval_points = 200\n",
        "width, height = params.width, params.height\n",
        "xp1 = np.linspace(0.0, width, num=int(n_eval_points * width))\n",
        "xp2 = np.linspace(0.0, height, num=int(n_eval_points * height))\n",
        "xp1, xp2 = np.meshgrid(xp1, xp2)\n",
        "xp = np.vstack((xp1.flatten(), xp2.flatten())).T\n",
        "\n",
        "# 学習後のモデルで変位と応力を予測する\n",
        "y_preds = net(torch.tensor(xp, dtype=torch.float32).to(device)).unbind(dim=1)\n",
        "y_preds = [y.cpu().detach().numpy() for y in y_preds]\n",
        "u_pred, v_pred, s11_pred, s22_pred, s12_pred = y_preds\n",
        "\n",
        "# 変位を1000倍で表示\n",
        "x_pred = xp + 1000 * np.column_stack([u_pred, v_pred])\n",
        "plot_results(\n",
        "    coords=x_pred,\n",
        "    vals=[\n",
        "        [(r\"$u$\", u_pred), (r\"$v$\", v_pred)],\n",
        "        [\n",
        "            (r\"$\\sigma^{11}$\", s11_pred),\n",
        "            (r\"$\\sigma^{22}$\", s22_pred),\n",
        "            (r\"$\\sigma^{12}$\", s12_pred),\n",
        "        ],\n",
        "    ],\n",
        "    output_path=\"results.png\",\n",
        ")"
      ],
      "metadata": {
        "id": "qtRQgXxWIhd4"
      },
      "execution_count": null,
      "outputs": []
    },
    {
      "cell_type": "markdown",
      "source": [
        "## 補足"
      ],
      "metadata": {
        "id": "lJ-kV-vsx4XG"
      }
    },
    {
      "cell_type": "markdown",
      "source": [
        "### 解析例①"
      ],
      "metadata": {
        "id": "GMdMpw7cx7v7"
      }
    },
    {
      "cell_type": "markdown",
      "source": [
        "- [C. Rao et al., J. Eng. Mech. (2021)](https://ascelibrary.org/doi/abs/10.1061/%28ASCE%29EM.1943-7889.0001947)([arXiv版](https://arxiv.org/abs/2006.08472))のAppendix B記載の解析に類似の解析\n",
        "- ヤング率，ポアソン比は論文に記載の$E=10$，$\\nu =0.2$を用いる\n",
        "- 評価点数の設定は論文の条件に倣う\n",
        "- 隠れ層の数，ニューロン数は論文に記載の構成だとうまく学習が進まなかったので変更している\n",
        "- 論文にはこの解析に対するオプティマイザーの記載がないため，論文中の他の解析で使用されているAdam(学習率$10^{-3}$) 2,000エポック，Adam(学習率$10^{-4}$) 2,000エポック，L-BFGSの順で行う"
      ],
      "metadata": {
        "id": "EpOgA8f-TvGk"
      }
    },
    {
      "cell_type": "code",
      "source": [
        "# 材料定数\n",
        "mater_rao = MaterialConstants(young=10.0, poisson=0.2)\n",
        "# ハイパーパラメータ\n",
        "params_rao = Params(\n",
        "    width=1.0,\n",
        "    height=1.0,\n",
        "    n_hidden_layers=10,\n",
        "    n_hidden_neurons=40,\n",
        "    n_collocation_samples=100,\n",
        "    n_boundary_samples=100,\n",
        "    use_adam1=True,\n",
        "    lr_adam1=1.0e-3,\n",
        "    steps_adam1=2000,\n",
        "    use_adam2=True,\n",
        "    lr_adam2=1.0e-4,\n",
        "    steps_adam2=2000,\n",
        ")"
      ],
      "metadata": {
        "id": "aAOg7CqSx5s-"
      },
      "execution_count": null,
      "outputs": []
    },
    {
      "cell_type": "markdown",
      "source": [
        "問題設定"
      ],
      "metadata": {
        "id": "WGlzLvNR9Aux"
      }
    },
    {
      "cell_type": "code",
      "source": [
        "def generate_samples_rao(\n",
        "    size: tuple[float, float],\n",
        "    n_collocation_samples: tuple[int, int],\n",
        "    n_boundary_samples: tuple[int, int],\n",
        "    use_lhs: bool = True,\n",
        ") -> Problem:\n",
        "    \"\"\"学習に用いる評価点の生成と境界条件の設定を行い，Problemクラスにまとめて返す\"\"\"\n",
        "    # 解析領域の大きさ\n",
        "    width, height = size\n",
        "    # 領域内部の評価点数\n",
        "    n_coll_samples_x, n_coll_samples_y = n_collocation_samples\n",
        "    # 境界上の評価点数\n",
        "    n_b_samples_x, n_b_samples_y = n_boundary_samples\n",
        "\n",
        "    # 領域内部の評価点を生成\n",
        "    if use_lhs:\n",
        "        x_coll = lhs(2, n_coll_samples_x * n_coll_samples_y)\n",
        "        x_coll1 = x_coll[:, 0] * width\n",
        "        x_coll2 = x_coll[:, 1] * height\n",
        "        x_coll = np.vstack((x_coll1, x_coll2)).T\n",
        "    else:\n",
        "        x_coll1 = np.linspace(0.0, width, num=n_coll_samples_x)\n",
        "        x_coll2 = np.linspace(0.0, height, num=n_coll_samples_y)\n",
        "        x_coll1, x_coll2 = np.meshgrid(x_coll1, x_coll2)\n",
        "        x_coll = np.vstack((x_coll1.flatten(), x_coll2.flatten())).T\n",
        "    # Rao et al., の個数に合わせる\n",
        "    x_coll = x_coll[\n",
        "        : (n_coll_samples_x * n_coll_samples_y - 2 * (n_b_samples_x + n_b_samples_y))\n",
        "    ]\n",
        "\n",
        "    # left (Neumann B.C.)\n",
        "    if use_lhs:\n",
        "        x_l1 = np.zeros(n_b_samples_y)\n",
        "        x_l2 = lhs(1, samples=n_b_samples_y)[:, 0] * height\n",
        "        x_left = np.vstack((x_l1, x_l2)).T\n",
        "    else:\n",
        "        x_left = np.zeros((n_b_samples_y, 2))\n",
        "        x_left[:, 1] = np.linspace(0.0, height, num=n_b_samples_y)\n",
        "    # 法線ベクトル\n",
        "    n_left = np.zeros((n_b_samples_y, 2))\n",
        "    n_left[:, 0] = -1.0\n",
        "    # 表面力は零\n",
        "    t_left = np.zeros((n_b_samples_y, 2))\n",
        "\n",
        "    # right (Neumann B.C.)\n",
        "    if use_lhs:\n",
        "        x_r1 = np.ones(n_b_samples_y) * width\n",
        "        x_r2 = lhs(1, samples=n_b_samples_y)[:, 0] * height\n",
        "        x_right = np.vstack((x_r1, x_r2)).T\n",
        "    else:\n",
        "        x_right = np.zeros((n_b_samples_y, 2))\n",
        "        x_right[:, 0] = width\n",
        "        x_right[:, 1] = np.linspace(0.0, height, num=n_b_samples_y)\n",
        "    # 法線ベクトル\n",
        "    n_right = np.zeros((n_b_samples_y, 2))\n",
        "    n_right[:, 0] = 1.0\n",
        "    # 表面力は零\n",
        "    t_right = np.zeros((n_b_samples_y, 2))\n",
        "\n",
        "    # bottom (Dirichlet B.C.)\n",
        "    if use_lhs:\n",
        "        x_b1 = lhs(1, samples=n_b_samples_x)[:, 0] * width\n",
        "        x_b2 = np.zeros(n_b_samples_x)\n",
        "        x_bottom = np.vstack((x_b1, x_b2)).T\n",
        "    else:\n",
        "        x_bottom = np.zeros((n_b_samples_x, 2))\n",
        "        x_bottom[:, 0] = np.linspace(0.0, width, num=n_b_samples_x)\n",
        "    d_bottom = np.zeros((n_b_samples_x, 2))\n",
        "\n",
        "    # Top left (Dirichlet B.C.)\n",
        "    if use_lhs:\n",
        "        x_tl1 = lhs(1, samples=int(n_b_samples_x / 2))[:, 0] * width / 2\n",
        "        x_tl2 = np.ones(int(n_b_samples_x / 2)) * height\n",
        "        x_tl = np.vstack((x_tl1, x_tl2)).T\n",
        "    else:\n",
        "        x_tl = np.zeros((int(n_b_samples_x / 2), 2))\n",
        "        x_tl[:, 0] = np.linspace(\n",
        "            0.0, width / 2, num=int(n_b_samples_x / 2)\n",
        "        )\n",
        "        x_tl[:, 1] = height\n",
        "    d_top = np.zeros((int(n_b_samples_x / 2), 2))\n",
        "    d_top[:, 1] = 0.1  # y方向に0.1の強制変位\n",
        "\n",
        "    # Top right (Neumann B.C.)\n",
        "    if use_lhs:\n",
        "        x_tr1 = lhs(1, samples=int(n_b_samples_x / 2))[:, 0] * width / 2 + width / 2\n",
        "        x_tr2 = np.ones(int(n_b_samples_x / 2)) * height\n",
        "        x_tr = np.vstack((x_tr1, x_tr2)).T\n",
        "    else:\n",
        "        x_tr = np.zeros((int(n_b_samples_x / 2), 2))\n",
        "        x_tr[:, 0] = np.linspace(\n",
        "            width / 2, width, num=int(n_b_samples_x / 2)\n",
        "        )\n",
        "        x_tr[:, 1] = height\n",
        "    # 法線ベクトル\n",
        "    n_top = np.zeros((int(n_b_samples_x / 2), 2))\n",
        "    n_top[:, 1] = 1.0\n",
        "    # 表面力は零\n",
        "    t_top = np.zeros((int(n_b_samples_y / 2), 2))\n",
        "\n",
        "    # Dirichlet B.C.(bottom, top left)の評価点，強制変位\n",
        "    x_dbc = np.concatenate((x_bottom, x_tl), axis=0)\n",
        "    d_dbc = np.concatenate((d_bottom, d_top), axis=0)\n",
        "\n",
        "    # Neumann B.C.(left, right, top right)の評価点，法線ベクトル，表面力\n",
        "    x_nbc = np.concatenate((x_left, x_right, x_tr), axis=0)\n",
        "    n_nbc = np.concatenate((n_left, n_right, n_top), axis=0)\n",
        "    t_nbc = np.concatenate((t_left, t_right, t_top), axis=0)\n",
        "\n",
        "    # 物体力(今回は零)\n",
        "    bf = np.zeros(x_coll.shape)\n",
        "\n",
        "    # np.ndarray > torch.Tensor\n",
        "    x_coll = torch.tensor(\n",
        "        x_coll, dtype=torch.float32, device=device, requires_grad=True\n",
        "    )\n",
        "    x_nbc = torch.tensor(x_nbc, dtype=torch.float32, device=device, requires_grad=True)\n",
        "    n_nbc = torch.tensor(n_nbc, dtype=torch.float32, device=device, requires_grad=True)\n",
        "    t_nbc = torch.tensor(t_nbc, dtype=torch.float32, device=device, requires_grad=True)\n",
        "    x_dbc = torch.tensor(x_dbc, dtype=torch.float32, device=device, requires_grad=True)\n",
        "    d_dbc = torch.tensor(d_dbc, dtype=torch.float32, device=device, requires_grad=True)\n",
        "    bf = torch.tensor(bf, dtype=torch.float32, device=device, requires_grad=True)\n",
        "\n",
        "    return Problem(\n",
        "        x_coll=x_coll,\n",
        "        x_nbc=x_nbc,\n",
        "        x_dbc=x_dbc,\n",
        "        n_nbc=n_nbc,\n",
        "        t_nbc=t_nbc,\n",
        "        d_dbc=d_dbc,\n",
        "        bf=bf,\n",
        "    )"
      ],
      "metadata": {
        "id": "wgG6Z35NVeaZ"
      },
      "execution_count": null,
      "outputs": []
    },
    {
      "cell_type": "code",
      "source": [
        "prob_rao = generate_samples_rao(\n",
        "    size=(params_rao.width, params_rao.height),\n",
        "    n_collocation_samples=(\n",
        "        int(params_rao.n_collocation_samples * params_rao.width),\n",
        "        int(params_rao.n_collocation_samples * params_rao.height),\n",
        "    ),\n",
        "    n_boundary_samples=(\n",
        "        int(params_rao.n_boundary_samples * params_rao.width),\n",
        "        int(params_rao.n_boundary_samples * params_rao.height),\n",
        "    ),\n",
        "    use_lhs=params_rao.use_lhs,\n",
        ")"
      ],
      "metadata": {
        "id": "9bTL1E_N1FbH"
      },
      "execution_count": null,
      "outputs": []
    },
    {
      "cell_type": "code",
      "source": [
        "plot_analysis_conditions(x_coll=prob_rao.x_coll.cpu().detach().numpy(), x_nbc=prob_rao.x_nbc.cpu().detach().numpy(), x_dbc=prob_rao.x_dbc.cpu().detach().numpy())"
      ],
      "metadata": {
        "id": "sfccA6AL1T-s"
      },
      "execution_count": null,
      "outputs": []
    },
    {
      "cell_type": "markdown",
      "source": [
        "学習実行"
      ],
      "metadata": {
        "id": "qsW9-8Sk9EY8"
      }
    },
    {
      "cell_type": "code",
      "source": [
        "net_rao = Net(\n",
        "    n_hidden_layers=params_rao.n_hidden_layers,\n",
        "    n_hidden_neurons=params_rao.n_hidden_neurons,\n",
        "    gain=params_rao.gain,\n",
        ").to(device)\n",
        "print(net_rao)"
      ],
      "metadata": {
        "id": "2AZO-8qh1fXE"
      },
      "execution_count": null,
      "outputs": []
    },
    {
      "cell_type": "code",
      "source": [
        "losses_rao = Loss()"
      ],
      "metadata": {
        "id": "mHPgjhDj1jo-"
      },
      "execution_count": null,
      "outputs": []
    },
    {
      "cell_type": "code",
      "source": [
        "%%time\n",
        "tran_pinns(net_rao, prob_rao, mater_rao, params_rao, losses_rao)"
      ],
      "metadata": {
        "id": "nNmiK0Gh1npp"
      },
      "execution_count": null,
      "outputs": []
    },
    {
      "cell_type": "markdown",
      "source": [
        "結果表示"
      ],
      "metadata": {
        "id": "o4RY9ht-9GIu"
      }
    },
    {
      "cell_type": "code",
      "source": [
        "plot_loss(losses_rao, output_path=\"loss_rao.png\")"
      ],
      "metadata": {
        "id": "22TaCwOq29Kn"
      },
      "execution_count": null,
      "outputs": []
    },
    {
      "cell_type": "code",
      "source": [
        "# 結果を評価するための点を均等に配置する\n",
        "n_eval_points = 200\n",
        "width, height = params_rao.width, params_rao.height\n",
        "xp1 = np.linspace(0.0, width, num=int(n_eval_points * width))\n",
        "xp2 = np.linspace(0.0, height, num=int(n_eval_points * height))\n",
        "xp1, xp2 = np.meshgrid(xp1, xp2)\n",
        "xp = np.vstack((xp1.flatten(), xp2.flatten())).T\n",
        "\n",
        "# 学習後のモデルで変位と応力を予測する\n",
        "y_preds = net_rao(torch.tensor(xp, dtype=torch.float32).to(device)).unbind(dim=1)\n",
        "y_preds = [y.cpu().detach().numpy() for y in y_preds]\n",
        "u_pred, v_pred, s11_pred, s22_pred, s12_pred = y_preds\n",
        "plot_results(\n",
        "    coords=xp,\n",
        "    vals=[\n",
        "        [(r\"$u$\", u_pred), (r\"$v$\", v_pred)],\n",
        "        [\n",
        "            (r\"$\\sigma^{11}$\", s11_pred),\n",
        "            (r\"$\\sigma^{22}$\", s22_pred),\n",
        "            (r\"$\\sigma^{12}$\", s12_pred),\n",
        "        ],\n",
        "    ],\n",
        "    output_path=\"results_rao.png\",\n",
        ")"
      ],
      "metadata": {
        "id": "uKplHpZh2_WT"
      },
      "execution_count": null,
      "outputs": []
    },
    {
      "cell_type": "markdown",
      "source": [
        "### 解析例②"
      ],
      "metadata": {
        "id": "bgCxEqzWx_Bk"
      }
    },
    {
      "cell_type": "markdown",
      "source": [
        "- 単純せん断\n",
        "- [GitHub: ericstewart36/pinnsforsolids](https://github.com/ericstewart36/pinnsforsolids/blob/05c37b3df15dc123db9440b32c5de63b8cfaf2a4/Stewart_Eric_final_report.pdf)の3章に記載の解析に類似の解析\n",
        "  - オプティマイザーの設定はこれに倣っている\n",
        "  - 評価点数は参照先と同じだが，ここではサンプリング方法にLHSを用いている\n",
        "  - 物性値，ネットワークの層数は異なる値を設定している\n"
      ],
      "metadata": {
        "id": "Y0tLTfZNVh4e"
      }
    },
    {
      "cell_type": "code",
      "source": [
        "# 材料定数\n",
        "mater_ss = MaterialConstants()\n",
        "# ハイパーパラメータ\n",
        "params_ss = Params(\n",
        "    width=1.0,\n",
        "    height=1.0,\n",
        "    n_hidden_layers=10,\n",
        "    n_hidden_neurons=40,\n",
        ")"
      ],
      "metadata": {
        "id": "KVdunA36Vhec"
      },
      "execution_count": null,
      "outputs": []
    },
    {
      "cell_type": "markdown",
      "source": [
        "問題設定"
      ],
      "metadata": {
        "id": "55RUzb4O9IwV"
      }
    },
    {
      "cell_type": "code",
      "source": [
        "def generate_samples_ss(\n",
        "    size: tuple[float, float],\n",
        "    n_collocation_samples: tuple[int, int],\n",
        "    n_boundary_samples: tuple[int, int],\n",
        "    use_lhs: bool = True,\n",
        ") -> Problem:\n",
        "    \"\"\"学習に用いる評価点の生成と境界条件の設定を行い，Problemクラスにまとめて返す\"\"\"\n",
        "    # 解析領域の大きさ\n",
        "    width, height = size\n",
        "    # 領域内部の評価点数\n",
        "    n_coll_samples_x, n_coll_samples_y = n_collocation_samples\n",
        "    # 境界上の評価点数\n",
        "    n_b_samples_x, n_b_samples_y = n_boundary_samples\n",
        "\n",
        "    # 領域内部の評価点を生成\n",
        "    if use_lhs:\n",
        "        x_coll = lhs(2, n_coll_samples_x * n_coll_samples_y)\n",
        "        x_coll1 = x_coll[:, 0] * width\n",
        "        x_coll2 = x_coll[:, 1] * height\n",
        "        x_coll = np.vstack((x_coll1, x_coll2)).T\n",
        "    else:\n",
        "        x_coll1 = np.linspace(0.0, width, num=n_coll_samples_x)\n",
        "        x_coll2 = np.linspace(0.0, height, num=n_coll_samples_y)\n",
        "        x_coll1, x_coll2 = np.meshgrid(x_coll1, x_coll2)\n",
        "        x_coll = np.vstack((x_coll1.flatten(), x_coll2.flatten())).T\n",
        "\n",
        "    # left (Neumann B.C.)\n",
        "    if use_lhs:\n",
        "        x_l1 = np.zeros(n_b_samples_y)\n",
        "        x_l2 = lhs(1, samples=n_b_samples_y)[:, 0] * height\n",
        "        x_left = np.vstack((x_l1, x_l2)).T\n",
        "    else:\n",
        "        x_left = np.zeros((n_b_samples_y, 2))\n",
        "        x_left[:, 1] = np.linspace(0.0, height, num=n_b_samples_y)\n",
        "    # 法線ベクトル\n",
        "    n_left = np.zeros((n_b_samples_y, 2))\n",
        "    n_left[:, 0] = -1.0\n",
        "    # 表面力\n",
        "    t_left = np.zeros((n_b_samples_y, 2))\n",
        "\n",
        "    # right (Neumann B.C.)\n",
        "    if use_lhs:\n",
        "        x_r1 = np.ones(n_b_samples_y) * width\n",
        "        x_r2 = lhs(1, samples=n_b_samples_y)[:, 0] * height\n",
        "        x_right = np.vstack((x_r1, x_r2)).T\n",
        "    else:\n",
        "        x_right = np.zeros((n_b_samples_y, 2))\n",
        "        x_right[:, 0] = width\n",
        "        x_right[:, 1] = np.linspace(0.0, height, num=n_b_samples_y)\n",
        "    # 法線ベクトル\n",
        "    n_right = np.zeros((n_b_samples_y, 2))\n",
        "    n_right[:, 0] = 1.0\n",
        "    # 表面力は零\n",
        "    t_right = np.zeros((n_b_samples_y, 2))\n",
        "\n",
        "    # bottom (Dirichlet B.C.)\n",
        "    if use_lhs:\n",
        "        x_b1 = lhs(1, samples=n_b_samples_x)[:, 0] * width\n",
        "        x_b2 = np.zeros(n_b_samples_x)\n",
        "        x_bottom = np.vstack((x_b1, x_b2)).T\n",
        "    else:\n",
        "        x_bottom = np.zeros((n_b_samples_x, 2))\n",
        "        x_bottom[:, 0] = np.linspace(0.0, width, num=n_b_samples_x)\n",
        "    d_bottom = np.zeros((n_b_samples_x, 2))\n",
        "\n",
        "    # top (Dirichlet B.C.)\n",
        "    if use_lhs:\n",
        "        x_t1 = lhs(1, samples=n_b_samples_x)[:, 0] * width\n",
        "        x_t2 = np.ones(n_b_samples_x) * height\n",
        "        x_top = np.vstack((x_t1, x_t2)).T\n",
        "    else:\n",
        "        x_top = np.zeros((n_b_samples_x, 2))\n",
        "        x_top[:, 0] = np.linspace(0.0, width, num=n_b_samples_x)  # x = 0 ~ +1\n",
        "        x_top[:, 1] = height\n",
        "    d_top = np.zeros((n_b_samples_x, 2))\n",
        "    # 強制変位\n",
        "    d_top[:, 0] = 0.1\n",
        "\n",
        "    # Dirichlet B.C.(bottom, top)の評価点，強制変位\n",
        "    x_dbc = np.concatenate((x_bottom, x_top), axis=0)\n",
        "    d_dbc = np.concatenate((d_bottom, d_top), axis=0)\n",
        "\n",
        "    # Neumann B.C.(left, right)の評価点，法線ベクトル，表面力\n",
        "    x_nbc = np.concatenate((x_left, x_right), axis=0)\n",
        "    n_nbc = np.concatenate((n_left, n_right), axis=0)\n",
        "    t_nbc = np.concatenate((t_left, t_right), axis=0)\n",
        "\n",
        "    # 物体力(今回は零)\n",
        "    bf = np.zeros(x_coll.shape)\n",
        "\n",
        "    # np.ndarray > torch.Tensor\n",
        "    x_coll = torch.tensor(\n",
        "        x_coll, dtype=torch.float32, device=device, requires_grad=True\n",
        "    )\n",
        "    x_nbc = torch.tensor(x_nbc, dtype=torch.float32, device=device, requires_grad=True)\n",
        "    n_nbc = torch.tensor(n_nbc, dtype=torch.float32, device=device, requires_grad=True)\n",
        "    t_nbc = torch.tensor(t_nbc, dtype=torch.float32, device=device, requires_grad=True)\n",
        "    x_dbc = torch.tensor(x_dbc, dtype=torch.float32, device=device, requires_grad=True)\n",
        "    d_dbc = torch.tensor(d_dbc, dtype=torch.float32, device=device, requires_grad=True)\n",
        "    bf = torch.tensor(bf, dtype=torch.float32, device=device, requires_grad=True)\n",
        "\n",
        "    return Problem(\n",
        "        x_coll=x_coll,\n",
        "        x_nbc=x_nbc,\n",
        "        x_dbc=x_dbc,\n",
        "        n_nbc=n_nbc,\n",
        "        t_nbc=t_nbc,\n",
        "        d_dbc=d_dbc,\n",
        "        bf=bf,\n",
        "    )"
      ],
      "metadata": {
        "id": "GYd_pBbF5k-l"
      },
      "execution_count": null,
      "outputs": []
    },
    {
      "cell_type": "code",
      "source": [
        "prob_ss = generate_samples_ss(\n",
        "    size=(params_ss.width, params_ss.height),\n",
        "    n_collocation_samples=(\n",
        "        int(params_ss.n_collocation_samples * params_ss.width),\n",
        "        int(params_ss.n_collocation_samples * params_ss.height),\n",
        "    ),\n",
        "    n_boundary_samples=(\n",
        "        int(params_ss.n_boundary_samples * params_ss.width),\n",
        "        int(params_ss.n_boundary_samples * params_ss.height),\n",
        "    ),\n",
        "    use_lhs=params_ss.use_lhs,\n",
        ")"
      ],
      "metadata": {
        "id": "0Yt_UOofyBaU"
      },
      "execution_count": null,
      "outputs": []
    },
    {
      "cell_type": "code",
      "source": [
        "plot_analysis_conditions(x_coll=prob_ss.x_coll.cpu().detach().numpy(), x_nbc=prob_ss.x_nbc.cpu().detach().numpy(), x_dbc=prob_ss.x_dbc.cpu().detach().numpy())"
      ],
      "metadata": {
        "id": "5gx5wJ1W5yOd"
      },
      "execution_count": null,
      "outputs": []
    },
    {
      "cell_type": "markdown",
      "source": [
        "学習実行"
      ],
      "metadata": {
        "id": "PvODPaO99LDa"
      }
    },
    {
      "cell_type": "code",
      "source": [
        "net_ss = Net(\n",
        "    n_hidden_layers=params_ss.n_hidden_layers,\n",
        "    n_hidden_neurons=params_ss.n_hidden_neurons,\n",
        "    gain=params_ss.gain,\n",
        ").to(device)\n",
        "print(net_ss)"
      ],
      "metadata": {
        "id": "-_naKKnc53Ky"
      },
      "execution_count": null,
      "outputs": []
    },
    {
      "cell_type": "code",
      "source": [
        "losses_ss = Loss()"
      ],
      "metadata": {
        "id": "ZycXtMfw5_Ep"
      },
      "execution_count": null,
      "outputs": []
    },
    {
      "cell_type": "code",
      "source": [
        "%%time\n",
        "tran_pinns(net_ss, prob_ss, mater_ss, params_ss, losses_ss)"
      ],
      "metadata": {
        "id": "OkJuUdex6CQu"
      },
      "execution_count": null,
      "outputs": []
    },
    {
      "cell_type": "markdown",
      "source": [
        "結果表示"
      ],
      "metadata": {
        "id": "d-0qIJ0c9Np5"
      }
    },
    {
      "cell_type": "code",
      "source": [
        "plot_loss(losses_ss, output_path=\"loss_ss.png\")"
      ],
      "metadata": {
        "id": "Fg6vki9D6JfK"
      },
      "execution_count": null,
      "outputs": []
    },
    {
      "cell_type": "code",
      "source": [
        "# 結果を評価するための点を均等に配置する\n",
        "n_eval_points = 200\n",
        "width, height = params_ss.width, params_ss.height\n",
        "xp1 = np.linspace(0.0, width, num=int(n_eval_points * width))\n",
        "xp2 = np.linspace(0.0, height, num=int(n_eval_points * height))\n",
        "xp1, xp2 = np.meshgrid(xp1, xp2)\n",
        "xp = np.vstack((xp1.flatten(), xp2.flatten())).T\n",
        "\n",
        "# 学習後のモデルで変位と応力を予測する\n",
        "y_preds = net_ss(torch.tensor(xp, dtype=torch.float32).to(device)).unbind(dim=1)\n",
        "y_preds = [y.cpu().detach().numpy() for y in y_preds]\n",
        "u_pred, v_pred, s11_pred, s22_pred, s12_pred = y_preds\n",
        "x_pred = xp + np.column_stack([u_pred, v_pred])\n",
        "plot_results(\n",
        "    coords=x_pred,\n",
        "    vals=[\n",
        "        [(r\"$u$\", u_pred), (r\"$v$\", v_pred)],\n",
        "        [\n",
        "            (r\"$\\sigma^{11}$\", s11_pred),\n",
        "            (r\"$\\sigma^{22}$\", s22_pred),\n",
        "            (r\"$\\sigma^{12}$\", s12_pred),\n",
        "        ],\n",
        "    ],\n",
        "    output_path=\"results_ss.png\",\n",
        ")"
      ],
      "metadata": {
        "id": "2BrI2UcV6Nrb"
      },
      "execution_count": null,
      "outputs": []
    },
    {
      "cell_type": "markdown",
      "source": [
        "以上"
      ],
      "metadata": {
        "id": "yHZr7kel6eE0"
      }
    }
  ]
}