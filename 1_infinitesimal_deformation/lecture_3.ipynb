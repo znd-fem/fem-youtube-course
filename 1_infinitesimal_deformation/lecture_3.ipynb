{
  "nbformat": 4,
  "nbformat_minor": 0,
  "metadata": {
    "colab": {
      "provenance": [],
      "toc_visible": true
    },
    "kernelspec": {
      "name": "python3",
      "display_name": "Python 3"
    },
    "language_info": {
      "name": "python"
    }
  },
  "cells": [
    {
      "cell_type": "markdown",
      "source": [
        "# Pythonで学ぶ有限要素法（平面応力編）\n",
        "線形等方弾性体に対する有限要素法による二次元解析（平面応力条件）のサンプルコードです．  \n",
        "YouTubeチャンネル [大学生・技術者のための有限要素法](https://www.youtube.com/@fempython) の動画に対応しています．  \n",
        "このnotebookには数式と対応するPythonスクリプトしか記載していないため，詳細な解説は対応する動画をご参照ください．"
      ],
      "metadata": {
        "id": "eziGH9GDtLB-"
      }
    },
    {
      "cell_type": "markdown",
      "source": [
        "## 問1'. 線形等方弾性体（平面応力条件）"
      ],
      "metadata": {
        "id": "tz2i2lfqtUUn"
      }
    },
    {
      "cell_type": "markdown",
      "source": [
        "**以下，支配方程式再掲**\n",
        "\n",
        "支配方程式\n",
        "$$\n",
        "\\int_V \\boldsymbol{\\sigma}\\cdot \\delta \\boldsymbol{\\varepsilon} \\mathrm{d}v = \\int_V \\boldsymbol{b}\\cdot \\delta \\boldsymbol{u} \\mathrm{d}v + \\int_S \\boldsymbol{t}\\cdot \\delta \\boldsymbol{u} \\mathrm{d}s\n",
        "$$\n",
        "構成式\n",
        "$$\n",
        "\\sigma^{ij} = C^{\\ ijkl}\\varepsilon_{kl}\n",
        "$$\n",
        "弾性係数\n",
        "$$\n",
        "C^{\\ ijkl}=\\lambda \\delta^{ij}\\delta^{kl} + \\mu (\\delta^{ik}\\delta^{jl} + \\delta^{il}\\delta^{jk})\n",
        "\\\\\n",
        "\\lambda = \\frac{E\\nu }{(1+\\nu )(1-2\\nu )},\\quad \\mu = \\frac{E}{2(1+\\nu )}\n",
        "\\\\\n",
        "E=205\\ \\mathrm{GPa},\\ \\nu = 0.27\n",
        "$$\n",
        "離散化された支配方程式\n",
        "$$\n",
        "\\int_{V^{\\mathrm{e}}} \\{ \\delta u \\}^{\\mathrm{T}}[B]^{\\mathrm{T}}\\{ \\sigma \\} \\mathrm{d}v^{\\mathrm{e}} = \\int_{V^{\\mathrm{e}}} \\{ \\delta u \\}^{\\mathrm{T}}[N]\\{ b \\} \\mathrm{d}v^{\\mathrm{e}} + \\int_{S^{\\mathrm{e}}} \\{ \\delta u \\}^{\\mathrm{T}}[N]\\{ t \\} \\mathrm{d}s^{\\mathrm{e}}\n",
        "$$\n",
        "要素剛性行列\n",
        "$$\n",
        "\\left[ K^{\\mathrm{e}}_{ij} \\right] = \\frac{ \\partial \\left\\{ f^{\\mathrm{e}}_{\\mathrm{in}i} \\right\\} }{\\partial \\left\\{ u_j\\right\\} } = \\int_{V^{\\mathrm{e}}} [B]^{\\mathrm{T}} [C] [B] \\mathrm{d}v^{\\mathrm{e}}\n",
        "$$\n",
        "要素剛性方程式\n",
        "$$\n",
        "[K^{\\mathrm{e}}]\\{ u \\} = \\{ f^{\\mathrm{e}} \\}\n",
        "$$\n",
        "全体剛性方程式\n",
        "$$\n",
        "[K]\\{ u \\} = \\{ F \\}\n",
        "$$"
      ],
      "metadata": {
        "id": "auxQMkAYtd4Z"
      }
    },
    {
      "cell_type": "markdown",
      "source": [
        "## 1. メッシュ作成"
      ],
      "metadata": {
        "id": "8SOw8ZkJthQH"
      }
    },
    {
      "cell_type": "markdown",
      "source": [
        "行列計算用ライブラリ（問1. 基本編 再掲）"
      ],
      "metadata": {
        "id": "xsZm4LTrtnUz"
      }
    },
    {
      "cell_type": "code",
      "execution_count": null,
      "metadata": {
        "id": "dJo2A5lTs_CG",
        "colab": {
          "base_uri": "https://localhost:8080/"
        },
        "outputId": "9f4df923-0254-4b47-92e1-bf6ac693de5e"
      },
      "outputs": [
        {
          "output_type": "stream",
          "name": "stdout",
          "text": [
            "NumPyを使用します(GPU利用不可)\n"
          ]
        }
      ],
      "source": [
        "try:\n",
        "    import cupy as np\n",
        "    from cupyx.scipy.sparse import csr_matrix\n",
        "    from cupyx.scipy.sparse.linalg import spsolve\n",
        "    gpu_available = True\n",
        "    print(\"CuPyを使用します(GPU利用可能)\")\n",
        "except ImportError:\n",
        "    import numpy as np\n",
        "    from scipy.sparse import csr_matrix\n",
        "    from scipy.sparse.linalg import spsolve\n",
        "    gpu_available = False\n",
        "    print(\"NumPyを使用します(GPU利用不可)\")"
      ]
    },
    {
      "cell_type": "markdown",
      "source": [
        "座標情報の実装（**板厚が追加される**）"
      ],
      "metadata": {
        "id": "DuTE8LCttrxk"
      }
    },
    {
      "cell_type": "code",
      "source": [
        "# メッシュのサイズ\n",
        "width, height, depth = 100e-3, 20e-3, 1e-3\n",
        "# 分割数\n",
        "nx, ny = 10, 2  # x方向, y方向\n",
        "# 節点の座標を生成\n",
        "x = np.linspace(0, width, nx + 1)\n",
        "y = np.linspace(0, height, ny + 1)\n",
        "X, Y = np.meshgrid(x, y)\n",
        "coords = np.column_stack([X.ravel(), Y.ravel()])\n",
        "n_point, n_dof = coords.shape  # 全体節点数, 自由度数\n",
        "f\"全体節点数: {n_point}, 自由度数: {n_dof}\""
      ],
      "metadata": {
        "id": "mSKXKIMWtzN2",
        "colab": {
          "base_uri": "https://localhost:8080/",
          "height": 35
        },
        "outputId": "30821677-65b8-4463-dfcb-dc6e1b05f7d5"
      },
      "execution_count": null,
      "outputs": [
        {
          "output_type": "execute_result",
          "data": {
            "text/plain": [
              "'全体節点数: 33, 自由度数: 2'"
            ],
            "application/vnd.google.colaboratory.intrinsic+json": {
              "type": "string"
            }
          },
          "metadata": {},
          "execution_count": 14
        }
      ]
    },
    {
      "cell_type": "markdown",
      "source": [
        "コネクティビティーの実装（問1. 基本編 再掲）"
      ],
      "metadata": {
        "id": "3eTfQHp6t9_a"
      }
    },
    {
      "cell_type": "code",
      "source": [
        "# 要素-全体節点番号の対応\n",
        "connectivity = []\n",
        "for j in range(ny):\n",
        "    for i in range(nx):\n",
        "       # 反時計回りに追加\n",
        "        n1 = j * (nx + 1) + i\n",
        "        n2 = n1 + 1\n",
        "        n3 = n1 + (nx + 1) + 1\n",
        "        n4 = n1 + (nx + 1)\n",
        "        connectivity.append([n1, n2, n3, n4])\n",
        "n_element = len(connectivity)  # 要素数\n",
        "f\"要素数: {n_element}\""
      ],
      "metadata": {
        "id": "SKlMCd_NuF7A",
        "colab": {
          "base_uri": "https://localhost:8080/",
          "height": 35
        },
        "outputId": "5bf7ddd2-db0a-4d1f-d6d8-ad1ffd3cf5db"
      },
      "execution_count": null,
      "outputs": [
        {
          "output_type": "execute_result",
          "data": {
            "text/plain": [
              "'要素数: 20'"
            ],
            "application/vnd.google.colaboratory.intrinsic+json": {
              "type": "string"
            }
          },
          "metadata": {},
          "execution_count": 15
        }
      ]
    },
    {
      "cell_type": "markdown",
      "source": [
        "境界条件（固定点）の実装（問1. 基本編 再掲）"
      ],
      "metadata": {
        "id": "zhubEMwyup5O"
      }
    },
    {
      "cell_type": "code",
      "source": [
        "# 固定点 (節点番号, 自由度番号(x: 0, y: 1))形式で格納\n",
        "fix_points = [\n",
        "    (0, 0),  # 節点0, x方向\n",
        "    (0, 1),  # 節点0, y方向\n",
        "    (11, 0),  # 節点11, x方向\n",
        "    (11, 1),  # 節点11, y方向\n",
        "    (22, 0),  # 節点22, x方向\n",
        "    (22, 1),  # 節点22, y方向\n",
        "]"
      ],
      "metadata": {
        "id": "NZcMoNMGuqOp"
      },
      "execution_count": null,
      "outputs": []
    },
    {
      "cell_type": "markdown",
      "source": [
        "境界条件（荷重）の実装（問1. 基本編 再掲）"
      ],
      "metadata": {
        "id": "0NdDOyTJusGG"
      }
    },
    {
      "cell_type": "code",
      "source": [
        "# 荷重 (節点番号, 自由度番号, 荷重)形式で格納\n",
        "applied_forces = [\n",
        "    (32, 1, -1000.0),  #節点32, y方向, -1000N\n",
        "]"
      ],
      "metadata": {
        "id": "_p2mSBaduuLp"
      },
      "execution_count": null,
      "outputs": []
    },
    {
      "cell_type": "markdown",
      "source": [
        "メッシュ確認（問1. 基本編 再掲）"
      ],
      "metadata": {
        "id": "eEWzxCizuv-M"
      }
    },
    {
      "cell_type": "code",
      "source": [
        "import matplotlib.pyplot as plt\n",
        "from matplotlib.collections import PolyCollection"
      ],
      "metadata": {
        "id": "vpNYXh9puzcn"
      },
      "execution_count": null,
      "outputs": []
    },
    {
      "cell_type": "code",
      "source": [
        "_, ax = plt.subplots()\n",
        "\n",
        "# メッシュの描画\n",
        "vertices = coords[np.asarray(connectivity)]\n",
        "if gpu_available:\n",
        "    vertices = np.asnumpy(vertices)\n",
        "collection = PolyCollection(vertices, edgecolors=\"black\", facecolors=\"none\")\n",
        "ax.add_collection(collection)\n",
        "\n",
        "if gpu_available:\n",
        "    coords_cpu = np.asnumpy(coords)\n",
        "else:\n",
        "    coords_cpu = coords\n",
        "\n",
        "# 固定点の描画\n",
        "fix_pts = [ipnt for ipnt, _ in fix_points]\n",
        "ax.scatter(\n",
        "    coords_cpu[fix_pts, 0],\n",
        "    coords_cpu[fix_pts, 1],\n",
        "    color=\"r\",\n",
        "    label=\"Fixed\",\n",
        ")\n",
        "\n",
        "# 荷重の描画\n",
        "loads = np.zeros_like(coords)\n",
        "load_pts = []\n",
        "for ipnt, idof, force in applied_forces:\n",
        "    loads[ipnt, idof] = force\n",
        "    load_pts.append(ipnt)\n",
        "loads /= (np.max(np.abs(loads)) / max(width / nx, height / ny))\n",
        "if gpu_available:\n",
        "    loads_cpu = np.asnumpy(loads)\n",
        "else:\n",
        "    loads_cpu = loads\n",
        "ax.quiver(\n",
        "    coords_cpu[load_pts, 0],\n",
        "    coords_cpu[load_pts, 1],\n",
        "    loads_cpu[load_pts, 0],\n",
        "    loads_cpu[load_pts, 1],\n",
        "    color=\"b\",\n",
        "    label=\"Load\",\n",
        ")\n",
        "\n",
        "# プロット設定\n",
        "ax.autoscale()\n",
        "ax.set_aspect(\"equal\")\n",
        "ax.axis(\"off\")\n",
        "ax.legend(loc=\"center left\", bbox_to_anchor=(1.0, 0.5))\n",
        "plt.savefig(\"mesh_plane_stress.png\", dpi=300, transparent=True)"
      ],
      "metadata": {
        "id": "cc5Qj7JBu1KT",
        "colab": {
          "base_uri": "https://localhost:8080/",
          "height": 136
        },
        "outputId": "c75aa698-9840-43db-98c1-16b3fa92e13f"
      },
      "execution_count": null,
      "outputs": [
        {
          "output_type": "display_data",
          "data": {
            "text/plain": [
              "<Figure size 640x480 with 1 Axes>"
            ],
            "image/png": "[encoded data removed]"
          },
          "metadata": {}
        }
      ]
    },
    {
      "cell_type": "markdown",
      "source": [
        "## 2. 形状関数の実装（問1. 基本編 再掲）"
      ],
      "metadata": {
        "id": "4Plg1KbAu4Ex"
      }
    },
    {
      "cell_type": "markdown",
      "source": [
        "自然座標系での積分点座標"
      ],
      "metadata": {
        "id": "ZRi0ADCku-8Y"
      }
    },
    {
      "cell_type": "code",
      "source": [
        "# 一次元での積分点座標\n",
        "gauss_points_1d = np.array([-1 / np.sqrt(3), 1 / np.sqrt(3)])\n",
        "# 一次元での積分点を並べて二次元上に配置する\n",
        "r1, r2 = np.meshgrid(gauss_points_1d, gauss_points_1d)\n",
        "# 二次元での積分点座標\n",
        "gauss_points_2d = np.vstack([r1.flatten(), r2.flatten()]).T\n",
        "# 各積分点での重み\n",
        "weights = np.array([1.0, 1.0, 1.0, 1.0])"
      ],
      "metadata": {
        "id": "pI7NGUo2u8LB"
      },
      "execution_count": null,
      "outputs": []
    },
    {
      "cell_type": "markdown",
      "source": [
        "形状関数の取得\n",
        "$$\n",
        "N^1(r_1,r_2)=\\frac{1}{4}(1-r_1)(1-r_2)\\\\\n",
        "N^2(r_1,r_2)=\\frac{1}{4}(1+r_1)(1-r_2)\\\\\n",
        "N^3(r_1,r_2)=\\frac{1}{4}(1+r_1)(1+r_2)\\\\\n",
        "N^4(r_1,r_2)=\\frac{1}{4}(1-r_1)(1+r_2)\n",
        "$$"
      ],
      "metadata": {
        "id": "Zs2QMmcnvBFc"
      }
    },
    {
      "cell_type": "code",
      "source": [
        "def get_shape_func(rcods: np.ndarray) -> np.ndarray:\n",
        "    \"\"\"座標から対応する形状関数Nを取得する\"\"\"\n",
        "    r1, r2 = rcods[..., 0], rcods[..., 1]\n",
        "    N = np.array([\n",
        "        0.25 * (1 - r1) * (1 - r2),  # N1\n",
        "        0.25 * (1 + r1) * (1 - r2),  # N2\n",
        "        0.25 * (1 + r1) * (1 + r2),  # N3\n",
        "        0.25 * (1 - r1) * (1 + r2),  # N4\n",
        "    ]).T\n",
        "    return N"
      ],
      "metadata": {
        "id": "Av02OuLAvCVc"
      },
      "execution_count": null,
      "outputs": []
    },
    {
      "cell_type": "markdown",
      "source": [
        "自然座標系におけるBマトリックスの取得\n",
        "$$\n",
        "B^1_1(r_1,r_2) = \\frac{\\partial N^1(r_1,r_2)}{\\partial r_1}=-\\frac{1}{4}(1-r_2),\\quad\n",
        "B^1_2(r_1,r_2) = \\frac{\\partial N^1(r_1,r_2)}{\\partial r_2}=-\\frac{1}{4}(1-r_1)\\\\\n",
        "B^2_1(r_1,r_2) = \\frac{\\partial N^2(r_1,r_2)}{\\partial r_1}=\\frac{1}{4}(1-r_2),\\quad\n",
        "B^2_2(r_1,r_2) = \\frac{\\partial N^2(r_1,r_2)}{\\partial r_2}=-\\frac{1}{4}(1+r_1)\\\\\n",
        "B^3_1(r_1,r_2) = \\frac{\\partial N^3(r_1,r_2)}{\\partial r_1}=\\frac{1}{4}(1+r_2),\\quad\n",
        "B^3_2(r_1,r_2) = \\frac{\\partial N^3(r_1,r_2)}{\\partial r_2}=\\frac{1}{4}(1+r_1)\\\\\n",
        "B^4_1(r_1,r_2) = \\frac{\\partial N^4(r_1,r_2)}{\\partial r_1}=-\\frac{1}{4}(1+r_2),\\quad\n",
        "B^4_2(r_1,r_2) = \\frac{\\partial N^4(r_1,r_2)}{\\partial r_2}=\\frac{1}{4}(1-r_1)\n",
        "$$"
      ],
      "metadata": {
        "id": "4k4FVV0xvIoA"
      }
    },
    {
      "cell_type": "code",
      "source": [
        "def get_bmat_natural(rcods: np.ndarray) -> np.ndarray:\n",
        "    \"\"\"座標から自然座標系でのBマトリックスを返す\"\"\"\n",
        "    r1, r2 = rcods[..., 0], rcods[..., 1]\n",
        "    # BI1 = ∂NI/∂r1 (:, 4)\n",
        "    B1 = np.array([\n",
        "        -0.25 * (1 - r2),  # B11\n",
        "        0.25 * (1 - r2),  # B21\n",
        "        0.25 * (1 + r2),  # B31\n",
        "        -0.25 * (1 + r2),  # B41\n",
        "    ]).T\n",
        "    # BI2 = ∂NI/∂r2 (:, 4)\n",
        "    B2 = 0.25 * np.array([\n",
        "        -0.25 * (1 - r1),  # B12\n",
        "        -0.25 * (1 + r1),  # B22\n",
        "        0.25 * (1 + r1),  # B32\n",
        "        0.25 * (1 - r1),  # B42\n",
        "    ]).T\n",
        "    return np.stack((B1, B2), axis=-1)  # (:, 4, 2)\n",
        "\n",
        "# 積分点座標から自然座標系でのBマトリックスを作成\n",
        "bmat_nat = get_bmat_natural(gauss_points_2d)"
      ],
      "metadata": {
        "id": "2zLM1puGvI9n"
      },
      "execution_count": null,
      "outputs": []
    },
    {
      "cell_type": "markdown",
      "source": [
        "全体座標系におけるBマトリックスと重みの取得\n",
        "$$\n",
        "B^I_i\n",
        "= \\frac{\\partial N^I}{\\partial x_i}\n",
        "= \\frac{\\partial N^I}{\\partial r_j}  \\frac{\\partial r_j}{\\partial x_i}\n",
        "= B^I_{\\mathrm{nat}\\ j}\\ J_{ji}^{-1}\n",
        "$$"
      ],
      "metadata": {
        "id": "FuCXkbQlvLUV"
      }
    },
    {
      "cell_type": "code",
      "source": [
        "def get_bmatrix(ncods: np.ndarray) -> tuple[np.ndarray, np.ndarray]:\n",
        "    \"\"\"全体座標から全体座標系でのBマトリックスと重み×ヤコビ行列式を取得する\"\"\"\n",
        "    # ヤコビ行列 Jij = BnatIj * xIi\n",
        "    jacob = np.einsum(\"gIj,...Ii->...gij\", bmat_nat, ncods)\n",
        "    # ヤコビ行列指揮 detJ\n",
        "    detJ = np.sqrt(np.linalg.det(np.einsum(\"...gki,...gkj->...gij\", jacob, jacob)))\n",
        "    # J^-1ji\n",
        "    jinv = np.linalg.inv(jacob)\n",
        "    # 全体座標系でのBマトリックス BIi = BnatIj * J^-1ji\n",
        "    bmat_phys = np.einsum(\"gIj,...gji->...gIi\", bmat_nat, jinv)\n",
        "    # 重み×ヤコビ行列式 w * detJ\n",
        "    wdetJ = weights * detJ\n",
        "    # 全体座標系でのBマトリックスと重み×ヤコビ行列式を返す\n",
        "    return bmat_phys, wdetJ"
      ],
      "metadata": {
        "id": "jfcfZDNEvOCq"
      },
      "execution_count": null,
      "outputs": []
    },
    {
      "cell_type": "markdown",
      "source": [
        "## 3. 支配方程式の実装"
      ],
      "metadata": {
        "id": "mI8r6KZWvQGL"
      }
    },
    {
      "cell_type": "markdown",
      "source": [
        "弾性係数の実装（**平面応力条件**）\n",
        "$$\n",
        "[C] = \\begin{bmatrix} \\frac{E}{1-\\nu^2} & \\frac{\\nu E}{1-\\nu^2} & 0 \\\\ \\frac{\\nu E}{1-\\nu^2} & \\frac{E}{1-\\nu^2} & 0 \\\\ 0 & 0 & \\frac{E}{2(1+\\nu )} \\end{bmatrix}\n",
        "$$"
      ],
      "metadata": {
        "id": "jjku2pH4vXty"
      }
    },
    {
      "cell_type": "code",
      "source": [
        "# 鋼材を想定\n",
        "# ヤング率 E\n",
        "YOUNG = 205e9\n",
        "# ポアソン比 ν\n",
        "POISSON = 0.27"
      ],
      "metadata": {
        "id": "6JNfwLUhhHpn"
      },
      "execution_count": null,
      "outputs": []
    },
    {
      "cell_type": "code",
      "source": [
        "# 弾性係数行列 C (平面応力条件)\n",
        "Cmatrix = np.array(\n",
        "    [\n",
        "        [YOUNG / (1 - POISSON**2), POISSON * YOUNG / (1 - POISSON**2), 0],\n",
        "        [POISSON * YOUNG / (1 - POISSON**2), YOUNG / (1 - POISSON**2), 0],\n",
        "        [0, 0, YOUNG / 2 / (1 + POISSON)],\n",
        "    ]\n",
        ")"
      ],
      "metadata": {
        "id": "MefCmeGivVZb"
      },
      "execution_count": null,
      "outputs": []
    },
    {
      "cell_type": "markdown",
      "source": [
        "全体剛性行列の初期化"
      ],
      "metadata": {
        "id": "vCEnDVjuwDhc"
      }
    },
    {
      "cell_type": "code",
      "source": [
        "# 全体剛性 (全自由度数 = 次元(n_dof) * 全節点数(n_point))\n",
        "Kmatrix = np.zeros((n_dof * n_point, n_dof * n_point))\n",
        "Fvector = np.zeros(n_dof * n_point)\n",
        "# Bマトリックスの行数 (変形に関する自由度)\n",
        "n_dfdof = 3  # 二次元解析\n",
        "# n_dfdof = 6  # 三次元解析\n",
        "# 要素を構成する節点数(今回はすべて四角形一次)\n",
        "n_node = 4\n",
        "# 要素内の積分点数(今回はすべて積分次数2)\n",
        "n_intgp = 4\n",
        "# バッチサイズ(同時に計算する要素数)\n",
        "batch_size = 7"
      ],
      "metadata": {
        "id": "MRN4eS5_wDEV"
      },
      "execution_count": null,
      "outputs": []
    },
    {
      "cell_type": "markdown",
      "source": [
        "板厚の設定\n",
        "- 積分の重みに利用するため，各積分点に設定する\n",
        "- 平面応力条件では板厚方向のひずみは非零となるため，増分解法により解析を行う際は板厚の更新が必要"
      ],
      "metadata": {
        "id": "-_K5UbJ1wqEW"
      }
    },
    {
      "cell_type": "code",
      "source": [
        "# 要素ごとの積分点数（全ての要素が同じ積分点数の場合の実装例）\n",
        "n_intgps = [n_intgp] * n_element\n",
        "# 累積積分点番号（全ての要素が同じ積分点数の場合の実装例）\n",
        "offsets = [n_intgp * ielm for ielm in range(n_element + 1)]\n",
        "# 全積分点数 (Number of Total INTegralPoints)\n",
        "n_tintgp = sum(n_intgps)\n",
        "# 板厚の初期値を設定（全積分点それぞれに板厚を設定）\n",
        "thick = np.full(n_tintgp, depth)"
      ],
      "metadata": {
        "id": "OZitxfGCwsc_"
      },
      "execution_count": null,
      "outputs": []
    },
    {
      "cell_type": "markdown",
      "source": [
        "要素剛性行列の計算・全体剛性行列への足し込み  \n",
        "（平面応力上限の場合，$w_{I_{\\mathrm{g}}} t$（面の重み*板厚）を重みとして計算する）\n",
        "$$\n",
        "\\begin{aligned}\n",
        "\\left[ K^{\\mathrm{e}} \\right]\n",
        "&= \\int_{V^{\\mathrm{e}}} [B]^{\\mathrm{T}} [C] [B] \\mathrm{d}v^{\\mathrm{e}} \\\\\n",
        "& \\approx \\sum_{I_{\\mathrm{g}}=1}^{N_{\\mathrm{g}}}[B]^{\\mathrm{T}} [C] [B]w_{I_{\\mathrm{g}}} t\\det \\boldsymbol{J} \\\\\n",
        "&= \\sum_{I_{\\mathrm{g}}=1}^{N_{\\mathrm{g}}}\n",
        "\\begin{bmatrix} \\frac{\\partial N^1}{\\partial x_1} & 0 & \\frac{\\partial N^1}{\\partial x_2} \\\\ 0 & \\frac{\\partial N^1}{\\partial x_2} & \\frac{\\partial N^1}{\\partial x_1} \\\\ \\vdots & \\vdots & \\vdots \\\\ \\frac{\\partial N^N}{\\partial x_1} & 0 & \\frac{\\partial N^N}{\\partial x_2} \\\\ 0 & \\frac{\\partial N^N}{\\partial x_2} & \\frac{\\partial N^N}{\\partial x_1} \\end{bmatrix}\n",
        "\\begin{bmatrix} \\frac{E}{1-\\nu^2} & \\frac{\\nu E}{1-\\nu^2} & 0 \\\\ \\frac{\\nu E}{1-\\nu^2} & \\frac{E}{1-\\nu^2} & 0 \\\\ 0 & 0 & \\frac{E}{2(1+\\nu )} \\end{bmatrix}\\begin{bmatrix} \\frac{\\partial N^1}{\\partial x_1} & 0 & \\cdots & \\frac{\\partial N^N}{\\partial x_1} & 0 \\\\ 0 & \\frac{\\partial N^1}{\\partial x_2} & \\cdots & 0 & \\frac{\\partial N^N}{\\partial x_2} \\\\ \\frac{\\partial N^1}{\\partial x_2} & \\frac{\\partial N^1}{\\partial x_1} & \\cdots & \\frac{\\partial N^N}{\\partial x_2} & \\frac{\\partial N^N}{\\partial x_1} \\end{bmatrix}\n",
        "w_{I_{\\mathrm{g}}} t\\det \\boldsymbol{J}\n",
        "\\end{aligned}\n",
        "$$\n",
        "最終行は平面ひずみ条件のものであることに注意"
      ],
      "metadata": {
        "id": "wJry5zV91bML"
      }
    },
    {
      "cell_type": "code",
      "source": [
        "# バッチサイズ分一気に計算\n",
        "for idx in range(0, n_element, batch_size):\n",
        "    # 同時に計算する要素番号\n",
        "    batch = list(range(idx, min(idx + batch_size, n_element)))\n",
        "\n",
        "    # Bマトリックスと重み*ヤコビアンの取得\n",
        "    Bmatrix, wdetJv = get_bmatrix(coords[np.asarray(connectivity)[batch]])\n",
        "    # 行列[B]の作成\n",
        "    Bd = np.zeros((len(batch), n_intgp, n_dfdof, n_dof * n_node))\n",
        "    Bd[..., 0, ::n_dof] = Bmatrix[..., 0]\n",
        "    Bd[..., 2, ::n_dof] = Bmatrix[..., 1]\n",
        "    Bd[..., 1, 1::n_dof] = Bmatrix[..., 1]\n",
        "    Bd[..., 2, 1::n_dof] = Bmatrix[..., 0]\n",
        "\n",
        "    # 各積分点の板厚 (batch_size, n_intgp)\n",
        "    thick_elm = np.array([thick[offsets[ielm] : offsets[ielm + 1]] for ielm in batch])\n",
        "    # 面積分の重みに板厚を掛けて体積分の重みとする\n",
        "    wdetJv *= thick_elm\n",
        "\n",
        "    # 要素剛性行列の計算\n",
        "    ke = np.einsum(\"...gki, kl, ...glj, ...g -> ...ij\", Bd, Cmatrix, Bd, wdetJv)\n",
        "\n",
        "    # 全体剛性行列への足し込み K <- Ke\n",
        "    for i, ielm in enumerate(batch):\n",
        "        for inod in range(n_node):\n",
        "            for jnod in range(n_node):\n",
        "                for idof in range(n_dof):\n",
        "                    for jdof in range(n_dof):\n",
        "                        ipnt = connectivity[ielm][inod]\n",
        "                        jpnt = connectivity[ielm][jnod]\n",
        "                        Kmatrix[n_dof * ipnt + idof, n_dof * jpnt + jdof] += ke[\n",
        "                            i, n_dof * inod + idof, n_dof * jnod + jdof\n",
        "                        ]"
      ],
      "metadata": {
        "id": "I4XUyc1d1X84"
      },
      "execution_count": null,
      "outputs": []
    },
    {
      "cell_type": "markdown",
      "source": [
        "## 4. 境界条件の適用（問1. 基本編 再掲）"
      ],
      "metadata": {
        "id": "j2LyQcFP3byx"
      }
    },
    {
      "cell_type": "markdown",
      "source": [
        "境界条件（荷重）"
      ],
      "metadata": {
        "id": "6l0lfpDu3gxS"
      }
    },
    {
      "cell_type": "code",
      "source": [
        "# 境界条件(荷重)\n",
        "for ipnt, idof, force in applied_forces:\n",
        "    # 荷重が加わる全体自由度番号\n",
        "    idx = n_dof * ipnt + idof\n",
        "    # 右辺外力ベクトルに荷重を加える\n",
        "    Fvector[idx] += force"
      ],
      "metadata": {
        "id": "hBKOvcpO3dy1"
      },
      "execution_count": null,
      "outputs": []
    },
    {
      "cell_type": "markdown",
      "source": [
        "境界条件（固定端）"
      ],
      "metadata": {
        "id": "4ji6Znrb3jPG"
      }
    },
    {
      "cell_type": "code",
      "source": [
        "# ペナルティー係数*全体剛性行列成分の最大値\n",
        "penalty = 1.0e8 * np.max(np.abs(Kmatrix))\n",
        "for ipnt, idof in fix_points:\n",
        "    # 固定点の全体自由度番号\n",
        "    idx = n_dof * ipnt + idof\n",
        "    # 全体剛性行列の対角成分にペナルティーを加える\n",
        "    Kmatrix[idx, idx] += penalty"
      ],
      "metadata": {
        "id": "PScwquBI3ktI"
      },
      "execution_count": null,
      "outputs": []
    },
    {
      "cell_type": "markdown",
      "source": [
        "## 5. 剛性方程式の求解（問1. 基本編 再掲）"
      ],
      "metadata": {
        "id": "ot6DXele3mKC"
      }
    },
    {
      "cell_type": "markdown",
      "source": [
        "全体剛性方程式$[K]\\{U\\}=\\{F\\}$を解く"
      ],
      "metadata": {
        "id": "7KYz-qrH3utn"
      }
    },
    {
      "cell_type": "code",
      "source": [
        "Kmatrix = csr_matrix(Kmatrix)\n",
        "Uvector = spsolve(Kmatrix, Fvector)"
      ],
      "metadata": {
        "id": "CmWShRxX3sJ_"
      },
      "execution_count": null,
      "outputs": []
    },
    {
      "cell_type": "markdown",
      "source": [
        "解析結果のプロット"
      ],
      "metadata": {
        "id": "I4Zrc6lb30q8"
      }
    },
    {
      "cell_type": "code",
      "source": [
        "# 変位\n",
        "displacements = Uvector.reshape(n_point, n_dof)\n",
        "# 変形後の座標\n",
        "deformed_coords = coords + displacements\n",
        "\n",
        "_, ax = plt.subplots()\n",
        "# 変形前のメッシュを黒，変形後のメッシュを赤色でプロット\n",
        "for cod, c in zip((coords, deformed_coords), (\"black\", \"red\")):\n",
        "    vertices = cod[np.asarray(connectivity)]\n",
        "    if gpu_available:\n",
        "        vertices = np.asnumpy(vertices)\n",
        "    collection = PolyCollection(vertices, edgecolors=c, facecolors=\"none\")\n",
        "    ax.add_collection(collection)\n",
        "\n",
        "ax.autoscale()\n",
        "ax.set_aspect(\"equal\")\n",
        "ax.axis(\"off\")\n",
        "plt.savefig(\"result_plane_stress.png\", dpi=300, transparent=True)"
      ],
      "metadata": {
        "id": "oL0HGPh-31DQ",
        "colab": {
          "base_uri": "https://localhost:8080/",
          "height": 178
        },
        "outputId": "7f59d957-f902-42f0-c56d-1e76e335261f"
      },
      "execution_count": null,
      "outputs": [
        {
          "output_type": "display_data",
          "data": {
            "text/plain": [
              "<Figure size 640x480 with 1 Axes>"
            ],
            "image/png": "[encoded data removed]"
          },
          "metadata": {}
        }
      ]
    },
    {
      "cell_type": "markdown",
      "source": [
        "## 6. 応力分布のプロット"
      ],
      "metadata": {
        "id": "JBVBk83A4S7v"
      }
    },
    {
      "cell_type": "markdown",
      "source": [
        "各積分点における応力の計算式\n",
        "$$\n",
        "\\{ \\sigma \\} = [C][B]\\{ u \\} = [C]\\{ \\varepsilon \\} \\\\\n",
        "\\sigma_i = C_{ij} B_{jk} u_k = C_{ij}\\varepsilon_{j}\n",
        "$$\n",
        "相当応力（ミーゼス応力）$\\bar{\\sigma}$の計算式\n",
        "$$\n",
        "\\begin{align}\n",
        "\\bar{\\sigma}\n",
        "&= \\sqrt{ \\frac{1}{2} \\left[ (\\sigma_{x}-\\sigma_{y})^2 + (\\sigma_{y}-\\sigma_{z})^2 + (\\sigma_{z}-\\sigma_{x})^2 + 6( \\sigma_{xy}^2 + \\sigma_{yz}^2 + \\sigma_{zx}^2 ) \\right] } \\\\\n",
        "&= \\sqrt{ \\sigma_{x}^2 - \\sigma_{x}\\sigma_{y} + \\sigma_{y}^2 + 3\\sigma_{xy}^2 }\n",
        "\\quad (\\because \\sigma_{z} = \\sigma_{yz} = \\sigma_{zx}=0)\n",
        "\\end{align}\n",
        "$$\n",
        "（2行目は平面応力条件を適用している）\n"
      ],
      "metadata": {
        "id": "kOeaRwCt_R82"
      }
    },
    {
      "cell_type": "markdown",
      "source": [
        "積分点における量"
      ],
      "metadata": {
        "id": "Ln1VgY7MWBe4"
      }
    },
    {
      "cell_type": "code",
      "source": [
        "# 相当応力（equivalent stress)\n",
        "eqv_stress_gp = np.zeros(n_tintgp)\n",
        "# 積分点座標（プロット用）\n",
        "coords_gp = np.zeros((n_tintgp, n_dof))"
      ],
      "metadata": {
        "id": "XR_e17YPWDN7"
      },
      "execution_count": null,
      "outputs": []
    },
    {
      "cell_type": "markdown",
      "source": [
        "節点における量"
      ],
      "metadata": {
        "id": "CAe-0iM-V-0b"
      }
    },
    {
      "cell_type": "code",
      "source": [
        "# 相当応力（equivalent stress)\n",
        "eqv_stress = np.zeros(n_point)\n",
        "# 節点を共有する要素数のカウント用\n",
        "node_counts = np.zeros(n_point)"
      ],
      "metadata": {
        "id": "aGjrp0giDTKX"
      },
      "execution_count": null,
      "outputs": []
    },
    {
      "cell_type": "markdown",
      "source": [
        "外挿するための行列\n",
        "- 積分点における量を節点に外挿する様々な方法が提案されている\n",
        "- 今回は形状関数の逆行列を用いて積分点から節点へ外挿する（$\\{ \\bar{\\sigma}{}_{\\mathrm{node}} \\} =[N]^{-1} \\{ \\bar{\\sigma}{}_{\\mathrm{gp}} \\}$）"
      ],
      "metadata": {
        "id": "fCCCWngKElgi"
      }
    },
    {
      "cell_type": "code",
      "source": [
        "N_gp = get_shape_func(gauss_points_2d)\n",
        "N_inv = np.linalg.inv(N_gp)"
      ],
      "metadata": {
        "id": "GROcbUmbEow0"
      },
      "execution_count": null,
      "outputs": []
    },
    {
      "cell_type": "markdown",
      "source": [
        "相当応力の計算"
      ],
      "metadata": {
        "id": "izSu9VSrEpUL"
      }
    },
    {
      "cell_type": "code",
      "source": [
        "# バッチサイズ分一気に計算\n",
        "for idx in range(0, n_element, batch_size):\n",
        "    # 同時に計算する要素番号\n",
        "    batch = list(range(idx, min(idx + batch_size, n_element)))\n",
        "    # 要素を構成する節点番号\n",
        "    elm_nodes = np.asarray(connectivity)[batch]\n",
        "    # 要素の節点座標\n",
        "    elm_cods = deformed_coords[elm_nodes]\n",
        "\n",
        "    # Bマトリックスと重み*ヤコビアンの取得\n",
        "    Bmatrix, _ = get_bmatrix(elm_cods)\n",
        "    # 行列[B]の作成\n",
        "    Bd = np.zeros((len(batch), n_intgp, n_dfdof, n_dof * n_node))\n",
        "    Bd[..., 0, ::n_dof] = Bmatrix[..., 0]\n",
        "    Bd[..., 2, ::n_dof] = Bmatrix[..., 1]\n",
        "    Bd[..., 1, 1::n_dof] = Bmatrix[..., 1]\n",
        "    Bd[..., 2, 1::n_dof] = Bmatrix[..., 0]\n",
        "\n",
        "    # 要素を構成する節点の変位\n",
        "    elm_disp = displacements[elm_nodes]\n",
        "    # 行列計算のため一次元配列にする\n",
        "    u_e_flat = elm_disp.reshape(len(batch), n_dof * n_node)\n",
        "\n",
        "    # ひずみ\n",
        "    strain = np.einsum(\"...gij, ...j -> ...gi\", Bd, u_e_flat)\n",
        "    # 応力\n",
        "    stress = np.einsum(\"ij, ...gj -> ...gi\", Cmatrix, strain)\n",
        "\n",
        "    # 相当応力（ミーゼス応力）の計算（平面応力条件）\n",
        "    sigma_x = stress[..., 0]\n",
        "    sigma_y = stress[..., 1]\n",
        "    sigma_xy = stress[..., 2]\n",
        "    sigma_eqv = np.sqrt(sigma_x**2 - sigma_x * sigma_y + sigma_y**2 + 3 * sigma_xy**2)\n",
        "\n",
        "    # 積分点における座標\n",
        "    cod_gp = np.einsum(\"gj, ...ji->...gi\", N_gp, elm_cods)\n",
        "\n",
        "    # 積分点における相当応力と座標を保存\n",
        "    for i, ielm in enumerate(batch):\n",
        "        gps = range(offsets[ielm], offsets[ielm + 1])\n",
        "        eqv_stress_gp[gps] = sigma_eqv[i]\n",
        "        coords_gp[gps, :] = cod_gp[i]\n",
        "\n",
        "    # 積分点から節点へ外挿\n",
        "    sigma_eqv_nd = np.einsum(\"ij, ...j -> ...i\", N_inv, sigma_eqv)\n",
        "\n",
        "    # 節点における相当応力の足し合わせ\n",
        "    for i in range(len(batch)):\n",
        "        # 要素節点に対応する全体節点番号のリスト\n",
        "        node_indices = elm_nodes[i]\n",
        "        eqv_stress[node_indices] += sigma_eqv_nd[i]\n",
        "        node_counts[node_indices] += 1\n",
        "\n",
        "# 節点における応力の平均を取る\n",
        "eqv_stress /= node_counts"
      ],
      "metadata": {
        "id": "2Rf2FtyL4XS0"
      },
      "execution_count": null,
      "outputs": []
    },
    {
      "cell_type": "markdown",
      "source": [
        "相当応力のプロット（積分点）"
      ],
      "metadata": {
        "id": "qTjIsulNWZ_a"
      }
    },
    {
      "cell_type": "code",
      "source": [
        "# メッシュ\n",
        "vertices = deformed_coords[np.asarray(connectivity)]\n",
        "if gpu_available:\n",
        "    vertices = np.asnumpy(vertices)\n",
        "collection = PolyCollection(\n",
        "    vertices, edgecolors=\"black\", facecolors=\"none\", linewidths=1\n",
        ")\n",
        "\n",
        "_, ax = plt.subplots(figsize=(10, 4))\n",
        "ax.add_collection(collection)\n",
        "\n",
        "# 相当応力を積分点でプロット\n",
        "if gpu_available:\n",
        "    coords_gp_cpu = np.asnumpy(coords_gp)\n",
        "    eqv_stress_gp_cpu = np.asnumpy(eqv_stress_gp)\n",
        "else:\n",
        "    coords_gp_cpu = coords_gp\n",
        "    eqv_stress_gp_cpu = eqv_stress_gp\n",
        "sc = ax.scatter(coords_gp_cpu[:, 0], coords_gp_cpu[:, 1], c=eqv_stress_gp_cpu, cmap=\"rainbow\", s=50)\n",
        "\n",
        "ax.autoscale()\n",
        "ax.set_aspect(\"equal\")\n",
        "ax.axis(\"off\")\n",
        "cbar = plt.colorbar(sc, ax=ax)\n",
        "cbar.set_label(\"Equivalent stress [Pa]\")\n",
        "plt.savefig(\"equivalent_stress_plane_stress_gp.png\", dpi=300, transparent=True)"
      ],
      "metadata": {
        "id": "kfY_iaWeWajM",
        "colab": {
          "base_uri": "https://localhost:8080/",
          "height": 360
        },
        "outputId": "19e1ab09-3bae-4a88-cc26-05203fb3db0f"
      },
      "execution_count": null,
      "outputs": [
        {
          "output_type": "display_data",
          "data": {
            "text/plain": [
              "<Figure size 1000x400 with 2 Axes>"
            ],
            "image/png": "[encoded data removed]"
          },
          "metadata": {}
        }
      ]
    },
    {
      "cell_type": "markdown",
      "source": [
        "相当応力のコンタープロット"
      ],
      "metadata": {
        "id": "qmPqpHNPEYrP"
      }
    },
    {
      "cell_type": "code",
      "source": [
        "_, ax = plt.subplots(figsize=(10, 4))\n",
        "if gpu_available:\n",
        "    deformed_coords_cpu = np.asnumpy(deformed_coords)\n",
        "    eqv_stress_cpu = np.asnumpy(eqv_stress)\n",
        "else:\n",
        "    deformed_coords_cpu = deformed_coords\n",
        "    eqv_stress_cpu = eqv_stress\n",
        "\n",
        "contour = ax.tricontourf(\n",
        "    deformed_coords_cpu[:, 0],\n",
        "    deformed_coords_cpu[:, 1],\n",
        "    eqv_stress_cpu,\n",
        "    levels=14,\n",
        "    cmap=\"rainbow\",\n",
        ")\n",
        "ax.autoscale()\n",
        "ax.set_aspect(\"equal\")\n",
        "ax.axis(\"off\")\n",
        "cbar = plt.colorbar(contour, ax=ax)\n",
        "cbar.set_label(\"Equivalent stress [Pa]\")\n",
        "plt.savefig(\"equivalent_stress_plane_stress_node.png\", dpi=300, transparent=True)"
      ],
      "metadata": {
        "id": "SfZgVXfuEYAa",
        "colab": {
          "base_uri": "https://localhost:8080/",
          "height": 425
        },
        "outputId": "adbeab26-c620-4a8d-82be-3fdb31981cd1"
      },
      "execution_count": null,
      "outputs": [
        {
          "output_type": "stream",
          "name": "stderr",
          "text": [
            "/usr/local/lib/python3.10/dist-packages/matplotlib/tri/_triangulation.py:181: RuntimeWarning: invalid value encountered in cast\n",
            "  triangles = np.asarray(triangles, dtype=np.int32)\n"
          ]
        },
        {
          "output_type": "display_data",
          "data": {
            "text/plain": [
              "<Figure size 1000x400 with 2 Axes>"
            ],
            "image/png": "[encoded data removed]"
          },
          "metadata": {}
        }
      ]
    },
    {
      "cell_type": "markdown",
      "source": [
        "以上"
      ],
      "metadata": {
        "id": "xtCxLhRXEcJM"
      }
    }
  ]
}